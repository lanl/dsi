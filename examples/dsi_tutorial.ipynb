{
 "cells": [
  {
   "cell_type": "markdown",
   "id": "d4785ce1-e8b5-4bbd-a7ee-bada0ba6f330",
   "metadata": {},
   "source": [
    "# DSI Tutorial and getting started\n",
    "\n",
    "The goal of the Data Science Infrastructure Project ([DSI](https://github.com/lanl/dsi)) is to provide a flexible, AI-ready metadata query capability which returns data subject to strict, POSIX-enforced file security. In this tutorial, you will learn how to:\n",
    " - initialize a DSI instance\n",
    " - load data into DSI\n",
    " - check the data loaded\n",
    " - query the data\n",
    " - create new data and save it to DSI\n",
    " - load complex schemas\n",
    " - use DSI writers\n",
    "\n",
    "This tutorial uses data from the [Cloverleaf3D](https://github.com/UK-MAC/CloverLeaf3D) Lagrangian-Eulerian hydrodynamics solver. Archived data is provided in dsi/examples/clover3d. Prior to running the tutorial, extract clover3d.zip and please follow the instructions in the [Quick Start: Installation](https://lanl.github.io/dsi/installation.html) to set up DSI.\n",
    "\n"
   ]
  },
  {
   "cell_type": "code",
   "execution_count": null,
   "id": "0fe6f810-9b2d-4369-9e46-2d78c96e2789",
   "metadata": {},
   "outputs": [],
   "source": [
    "from dsi.dsi import DSI"
   ]
  },
  {
   "cell_type": "code",
   "execution_count": null,
   "id": "14e76c45-9449-4fcc-bdbd-6c287a430f37",
   "metadata": {},
   "outputs": [],
   "source": [
    "# Create instance of DSI\n",
    "baseline = DSI()"
   ]
  },
  {
   "cell_type": "markdown",
   "id": "3373701e-acaa-46ca-9057-1dda825f231f",
   "metadata": {},
   "source": [
    "# Available features\n",
    "\n",
    "To see which available backends, readers and writers area available, you can try calling funtionst to list the featureset available in your instalation."
   ]
  },
  {
   "cell_type": "code",
   "execution_count": null,
   "id": "d1d83751-5617-4659-a710-fc1aaa3aa872",
   "metadata": {},
   "outputs": [],
   "source": [
    "# Lists available backends\n",
    "baseline.list_backends()"
   ]
  },
  {
   "cell_type": "code",
   "execution_count": null,
   "id": "fd0924c3-6a7d-418b-b82b-802107eb951b",
   "metadata": {},
   "outputs": [],
   "source": [
    "# Lists available readers\n",
    "baseline.list_readers()"
   ]
  },
  {
   "cell_type": "code",
   "execution_count": null,
   "id": "70c7a8c0-72dc-46cb-858b-29016aff2428",
   "metadata": {},
   "outputs": [],
   "source": [
    "# Lists available writers\n",
    "baseline.list_writers()"
   ]
  },
  {
   "cell_type": "markdown",
   "id": "84d8eb51-0cad-4344-b68d-8a2d61dfe9f1",
   "metadata": {},
   "source": [
    "# Reading Data into DSI\n",
    "\n",
    "For this tutorial, we will use cloverleaf 3d data available in our repository. dsi/examples/clover3d/clover3d.zip\n",
    "Alternitively, you can download the data from this direct link: https://github.com/lanl/dsi/raw/refs/heads/main/examples/clover3d/clover3d.zip\n",
    "\n",
    "* Use a unix terminal / windows powershell to pull the data and extract locally into ./clover3d folder\n",
    "\n",
    "The data is an ensemble of 8 runs, and has 4 metadata products of interest:\n",
    "\n",
    "* clover.in - input deck\n",
    "* clover.out - simulation statistics\n",
    "* timestamps.txt - time when simulation was launched on slurm\n",
    "* viz files - insitu outputs in vtk format\n",
    "\n",
    "To begin the ingest:"
   ]
  },
  {
   "cell_type": "code",
   "execution_count": null,
   "id": "ffd67bca-2b0a-4eb0-bf56-12d09a2baee3",
   "metadata": {},
   "outputs": [],
   "source": [
    "# Target backend defaults to SQLite since not defined\n",
    "store = DSI(\"dsi-tutorial.db\")\n",
    "\n",
    "# dsi.read(filename, reader)\n",
    "store.read(\"./clover3d/\", 'Cloverleaf')"
   ]
  },
  {
   "cell_type": "markdown",
   "id": "51584519-2e77-4afa-983a-f69945a084c3",
   "metadata": {},
   "source": [
    "# Exploring the loaded data"
   ]
  },
  {
   "cell_type": "code",
   "execution_count": null,
   "id": "b911a426-a0f2-45a5-94bc-a71fce55f7bd",
   "metadata": {},
   "outputs": [],
   "source": [
    "# How many tables do we have\n",
    "store.num_tables()"
   ]
  },
  {
   "cell_type": "code",
   "execution_count": null,
   "id": "ec76764e-e25e-4720-8cc2-d7eab8d59363",
   "metadata": {},
   "outputs": [],
   "source": [
    "# Let's see what tables were created\n",
    "store.list()"
   ]
  },
  {
   "cell_type": "code",
   "execution_count": null,
   "id": "146d4e66-57df-48f5-ba2e-0c438668310c",
   "metadata": {},
   "outputs": [],
   "source": [
    "# Let's get more details about the data\n",
    "store.summary()"
   ]
  },
  {
   "cell_type": "code",
   "execution_count": null,
   "id": "3e00fca3-3f72-4a4e-bd4c-7c61ec3ed113",
   "metadata": {},
   "outputs": [],
   "source": [
    "# Preview the contents of the visualization files\n",
    "store.display(\"viz_files\")"
   ]
  },
  {
   "cell_type": "markdown",
   "id": "b59cddcd-5a83-4fa3-8f4e-fd5d98381aa6",
   "metadata": {},
   "source": [
    "# DSI Find to search within the data"
   ]
  },
  {
   "cell_type": "code",
   "execution_count": null,
   "id": "65ed9155-e447-43ac-b556-72b24e1207ee",
   "metadata": {},
   "outputs": [],
   "source": [
    "# Search string or value within all tables\n",
    "store.find(\"Jun 2025\")"
   ]
  },
  {
   "cell_type": "code",
   "execution_count": null,
   "id": "266811c7-f79e-4bd4-9ee0-0e40a97fa8ed",
   "metadata": {},
   "outputs": [],
   "source": [
    "# Perform a search and receive a collection\n",
    "find_list = store.find(\"8.0\", True) # Use True to return a collection"
   ]
  },
  {
   "cell_type": "code",
   "execution_count": null,
   "id": "bee1a1b9-a749-4bde-ab1d-abebd386622f",
   "metadata": {},
   "outputs": [],
   "source": [
    "# Simply display what this collection (pandas dataframe) looks like\n",
    "find_list"
   ]
  },
  {
   "cell_type": "markdown",
   "id": "e48e4648-4012-4cbc-b961-0920fcb2eafc",
   "metadata": {},
   "source": [
    "# Updating contents with DSI\n",
    "\n",
    "DSI Allows you to add or modify existing contents inside a collection that was returned from\n",
    "a find or a query operation when 'True' is used.\n",
    "\n",
    "Example usecase: We want to perform post-processing of the ingested data. In this example, we would like to append additional information to our DSI Database. We want to convert the simulation date from text to numerical unix time."
   ]
  },
  {
   "cell_type": "code",
   "execution_count": null,
   "id": "1dfb51e9-055f-4b55-bb97-3d3d88781f1a",
   "metadata": {},
   "outputs": [],
   "source": [
    "find_list = store.find(\"Jun 2025\", True)"
   ]
  },
  {
   "cell_type": "code",
   "execution_count": null,
   "id": "d76b6904-1801-48c2-90ee-48cb1155ccb5",
   "metadata": {},
   "outputs": [],
   "source": [
    "find_list"
   ]
  },
  {
   "cell_type": "code",
   "execution_count": null,
   "id": "b69e8c2f-e854-4b7f-84b3-07ebb78310a4",
   "metadata": {},
   "outputs": [],
   "source": [
    "# Small amount of helper code to convert dates to unix time\n",
    "from datetime import datetime\n",
    "from zoneinfo import ZoneInfo\n",
    "def str2unix(date_str):\n",
    "    date_str_clean = date_str.rsplit(' ', 1)[0]  # remove 'MDT'\n",
    "    dt_naive = datetime.strptime(date_str_clean, \"%a %d %b %Y %I:%M:%S %p\")\n",
    "    # Set timezone\n",
    "    dt_local = dt_naive.replace(tzinfo=ZoneInfo(\"America/Denver\"))\n",
    "    unix_time = int(dt_local.timestamp()) # Unix time in UTC\n",
    "    return unix_time"
   ]
  },
  {
   "cell_type": "code",
   "execution_count": null,
   "id": "49b5fbf7-0f1c-4ff6-90e0-e4c934b34d60",
   "metadata": {},
   "outputs": [],
   "source": [
    "store.display(\"simulation\") # display table before update"
   ]
  },
  {
   "cell_type": "code",
   "execution_count": null,
   "id": "9fffde2f-1281-4247-8d00-b8d6be74a253",
   "metadata": {},
   "outputs": [],
   "source": [
    "# Iterate through collection and append new metadata\n",
    "for table in find_list:\n",
    "    # Create a new column in the collection\n",
    "    table[\"sim_unixtime\"] = table[\"sim_datetime\"].apply(str2unix)\n",
    "\n",
    "#dsi.update(collection)\n",
    "store.update(find_list) # update all tables in the list\n",
    "#store.update(find_list[0]) # Optionally, update only first table in the list\n"
   ]
  },
  {
   "cell_type": "code",
   "execution_count": null,
   "id": "cce158ae-8a03-47e2-9f6e-22d7b29bb90e",
   "metadata": {},
   "outputs": [],
   "source": [
    "# See the updated results\n",
    "store.display(\"simulation\")"
   ]
  },
  {
   "cell_type": "markdown",
   "id": "2a1a273f-1669-418d-9c52-fd4732ec56f8",
   "metadata": {},
   "source": [
    "# Query DSI\n",
    "\n",
    "DSI Supports direct SQL queries to the data that you have ingested"
   ]
  },
  {
   "cell_type": "code",
   "execution_count": null,
   "id": "8fd1e99e-d293-46d2-b6e8-b353cf027f07",
   "metadata": {},
   "outputs": [],
   "source": [
    "# Use sql statement to directly query the backend store\n",
    "store.query(\"SELECT sim_id, xmin, ymin, xmax, ymax, state2_density FROM input\") # Adding 'True' gives a collection"
   ]
  },
  {
   "cell_type": "code",
   "execution_count": null,
   "id": "863d168c-b73a-424e-bf58-d13980a45da1",
   "metadata": {},
   "outputs": [],
   "source": [
    "# alternative to \"query()\" if you want to get a whole table\n",
    "store.get_table(\"input\") # Adding 'True' gives a collection"
   ]
  },
  {
   "cell_type": "markdown",
   "id": "5116ee7b-ec15-470f-9e91-da0a13d5d970",
   "metadata": {},
   "source": [
    "# DSI Write - Schemas\n",
    "\n",
    "DSI has support to represent complex schemas. For example, if you would like to relate the different tables together you can use the schema reader which takes in a .json file.\n",
    "\n",
    "* schema.json"
   ]
  },
  {
   "cell_type": "raw",
   "id": "99f23585-154c-4d27-b4d4-f90d0c7cbfd2",
   "metadata": {},
   "source": [
    "{\n",
    "    \"simulation\": {\n",
    "       \"primary_key\": \"sim_id\"\n",
    "    }, \n",
    "    \"input\": {\n",
    "       \"foreign_key\": {\n",
    "             \"sim_id\": [\"simulation\", \"sim_id\"]\n",
    "       }\n",
    "    }, \n",
    "    \"output\": {\n",
    "       \"foreign_key\": {\n",
    "             \"sim_id\": [\"simulation\", \"sim_id\"]\n",
    "       }\n",
    "    },\n",
    "    \"viz_files\": {\n",
    "       \"foreign_key\": {\n",
    "             \"sim_id\": [\"simulation\", \"sim_id\"]\n",
    "       }\n",
    "    }\n",
    "}"
   ]
  },
  {
   "cell_type": "code",
   "execution_count": null,
   "id": "522ac408-a4cf-43c2-8751-12c4552cf76d",
   "metadata": {},
   "outputs": [],
   "source": []
  },
  {
   "cell_type": "code",
   "execution_count": null,
   "id": "3d6c78c6-055b-4da7-9790-1fb632509ebc",
   "metadata": {},
   "outputs": [],
   "source": []
  },
  {
   "cell_type": "markdown",
   "id": "5310e236-9ebd-4f7f-8fe4-1f275a204dee",
   "metadata": {},
   "source": [
    "Before defining and ingesting a schema, what does an Entity Relationship Diagram look like in our initial ingest?"
   ]
  },
  {
   "cell_type": "code",
   "execution_count": null,
   "id": "28f7118c-be96-4278-8c31-8cfa74ce60eb",
   "metadata": {},
   "outputs": [],
   "source": []
  },
  {
   "cell_type": "code",
   "execution_count": null,
   "id": "1a00aab8-ee3a-4bfe-83c9-cdbc284f955d",
   "metadata": {},
   "outputs": [],
   "source": [
    "store.write(\"clover_er_diagram_no_schema.png\", \"ER_Diagram\")\n",
    "\n",
    "from IPython.display import Image\n",
    "Image(filename=\"clover_er_diagram_no_schema.png\", width=200)"
   ]
  },
  {
   "cell_type": "code",
   "execution_count": null,
   "id": "e1104b9e-a3af-4e5e-a8d6-acae74c59b0e",
   "metadata": {},
   "outputs": [],
   "source": [
    "# Create a new database where we will define a schema\n",
    "schema_store = DSI(\"schema_tutorial.db\")\n",
    "\n",
    "# dsi.schema(filename)\n",
    "schema_store.schema(\"./clover3d/schema.json\") # Schema neeeds to be defined before reading Cloverleaf data\n",
    "\n",
    "# dsi.read(filename, reader)\n",
    "schema_store.read(\"./clover3d/\", 'Cloverleaf') # read in Cloverleaf data\n",
    "\n",
    "# dsi.write(filename, writer)\n",
    "schema_store.write(\"clover_er_diagram.png\", \"ER_Diagram\")"
   ]
  },
  {
   "cell_type": "markdown",
   "id": "961d7a40-6b45-460b-96f1-b49ab2200a4d",
   "metadata": {},
   "source": [
    "To preview the Entity Realationship Diagram (ERDiagram), import libraries to display images"
   ]
  },
  {
   "cell_type": "code",
   "execution_count": null,
   "id": "40a5cfdd-a6ea-4ff2-b7d8-08019c6a57e8",
   "metadata": {},
   "outputs": [],
   "source": [
    "from IPython.display import Image\n",
    "Image(filename=\"clover_er_diagram.png\", width=300)"
   ]
  },
  {
   "cell_type": "markdown",
   "id": "30382290-b4c5-4043-b4ba-d66c4954ce74",
   "metadata": {},
   "source": [
    "# DSI Write - CSV\n",
    "\n",
    "DSI Support the output (write) of data if you would like to export into another project."
   ]
  },
  {
   "cell_type": "code",
   "execution_count": null,
   "id": "d8fad85c-e7dd-4119-9f6a-ee3d87ba8510",
   "metadata": {},
   "outputs": [],
   "source": [
    "store.write(\"input.csv\", \"Csv_Writer\", \"input\")"
   ]
  },
  {
   "cell_type": "markdown",
   "id": "b0a92930-22a7-46ff-b5cd-7d18abd1149b",
   "metadata": {},
   "source": [
    "# DSI Write - Table plot\n",
    "DSI has a built in tool to assist in plotting tables"
   ]
  },
  {
   "cell_type": "code",
   "execution_count": null,
   "id": "d4eb7fda-87be-4ac9-84eb-647082fdd8bc",
   "metadata": {},
   "outputs": [],
   "source": [
    "store.write(\"output_table_plot.png\", \"Table_Plot\", \"output\")"
   ]
  },
  {
   "cell_type": "code",
   "execution_count": null,
   "id": "4f860dca-bacd-4a68-bd66-71b20d6723fd",
   "metadata": {},
   "outputs": [],
   "source": [
    "Image(filename=\"output_table_plot.png\", width=400)"
   ]
  },
  {
   "cell_type": "markdown",
   "id": "a503aac7-985a-4b22-88fe-21a5b082006e",
   "metadata": {},
   "source": [
    "# Ending your workflow"
   ]
  },
  {
   "cell_type": "code",
   "execution_count": null,
   "id": "2b91d592-18cd-4e72-abbf-51fc3cf02a3f",
   "metadata": {},
   "outputs": [],
   "source": [
    "store.close()\n",
    "schema_store.close()"
   ]
  },
  {
   "cell_type": "code",
   "execution_count": null,
   "id": "cacc5c08-4904-4c58-9d13-5822b87ed7db",
   "metadata": {},
   "outputs": [],
   "source": []
  }
 ],
 "metadata": {
  "kernelspec": {
   "display_name": "Python 3 (ipykernel)",
   "language": "python",
   "name": "python3"
  },
  "language_info": {
   "codemirror_mode": {
    "name": "ipython",
    "version": 3
   },
   "file_extension": ".py",
   "mimetype": "text/x-python",
   "name": "python",
   "nbconvert_exporter": "python",
   "pygments_lexer": "ipython3",
   "version": "3.10.11"
  }
 },
 "nbformat": 4,
 "nbformat_minor": 5
}
