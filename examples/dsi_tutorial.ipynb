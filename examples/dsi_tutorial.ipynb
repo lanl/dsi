{
 "cells": [
  {
   "cell_type": "markdown",
   "id": "d4785ce1-e8b5-4bbd-a7ee-bada0ba6f330",
   "metadata": {},
   "source": [
    "# DSI Getting started"
   ]
  },
  {
   "cell_type": "code",
   "execution_count": 4,
   "id": "0fe6f810-9b2d-4369-9e46-2d78c96e2789",
   "metadata": {},
   "outputs": [],
   "source": [
    "from dsi.dsi import DSI"
   ]
  },
  {
   "cell_type": "code",
   "execution_count": 5,
   "id": "14e76c45-9449-4fcc-bdbd-6c287a430f37",
   "metadata": {},
   "outputs": [
    {
     "name": "stdout",
     "output_type": "stream",
     "text": [
      "Created an instance of DSI\n"
     ]
    }
   ],
   "source": [
    "# Create instance of DSI\n",
    "baseline = DSI()"
   ]
  },
  {
   "cell_type": "markdown",
   "id": "3373701e-acaa-46ca-9057-1dda825f231f",
   "metadata": {},
   "source": [
    "# Available features\n",
    "\n",
    "To see which available backends, readers and writers area available, you can try calling funtionst to list the featureset available in your instalation."
   ]
  },
  {
   "cell_type": "code",
   "execution_count": 6,
   "id": "d1d83751-5617-4659-a710-fc1aaa3aa872",
   "metadata": {},
   "outputs": [
    {
     "name": "stdout",
     "output_type": "stream",
     "text": [
      "\n",
      "Valid Backends for `backend_name` in backend():\n",
      "----------------------------------------\n",
      "Sqlite : Lightweight, file-based SQL backend. Default backend used by DSI API.\n",
      "DuckDB : In-process SQL backend optimized for fast analytics on large datasets.\n",
      "\n",
      "\n"
     ]
    }
   ],
   "source": [
    "# Lists available backends\n",
    "baseline.list_backends()"
   ]
  },
  {
   "cell_type": "code",
   "execution_count": 7,
   "id": "fd0924c3-6a7d-418b-b82b-802107eb951b",
   "metadata": {},
   "outputs": [
    {
     "name": "stdout",
     "output_type": "stream",
     "text": [
      "\n",
      "Valid Readers for `reader_name` in read():\n",
      "--------------------------------------------------\n",
      "CSV                  : Loads data from CSV files (one table per call)\n",
      "YAML1                : Loads data from YAML files of a certain structure\n",
      "TOML1                : Loads data from TOML files of a certain structure\n",
      "JSON                 : Loads single-table data from JSON files\n",
      "Ensemble             : Loads a CSV file where each row is a simulation run; creates a simulation table\n",
      "Cloverleaf           : Loads data from a directory with subfolders for each simulation run's input and output data\n",
      "Bueno                : Loads performance data from Bueno (github.com/lanl/bueno) (.data text file format)\n",
      "DublinCoreDatacard   : Loads dataset metadata adhering to the Dublin Core format (XML)\n",
      "SchemaOrgDatacard    : Loads dataset metadata adhering to schema.org (JSON)\n",
      "GoogleDatacard       : Loads dataset metadata adhering to the Google Data Cards Playbook (YAML)\n",
      "Oceans11Datacard     : Loads dataset metadata for Oceans11 DSI data server (oceans11.lanl.gov) (YAML)\n",
      "\n"
     ]
    }
   ],
   "source": [
    "# Lists available readers\n",
    "baseline.list_readers()"
   ]
  },
  {
   "cell_type": "code",
   "execution_count": 8,
   "id": "70c7a8c0-72dc-46cb-858b-29016aff2428",
   "metadata": {},
   "outputs": [
    {
     "name": "stdout",
     "output_type": "stream",
     "text": [
      "\n",
      "Valid Writers for `writer_name` in write(): ['ER_Diagram', 'Table_Plot', 'Csv_Writer'] \n",
      "\n",
      "ER_Diagram  : Creates a visual ER diagram image based on all tables in DSI.\n",
      "Table_Plot  : Generates a plot of numerical data from a specified table.\n",
      "Csv_Writer  : Exports the data of a specified table to a CSV file.\n",
      "\n"
     ]
    }
   ],
   "source": [
    "# Lists available writers\n",
    "baseline.list_writers()"
   ]
  },
  {
   "cell_type": "markdown",
   "id": "84d8eb51-0cad-4344-b68d-8a2d61dfe9f1",
   "metadata": {},
   "source": [
    "# Reading Data into DSI\n",
    "\n",
    "For this tutorial, we will use cloverleaf 3d data available in our repository. dsi/examples/clover3d/clover3d.zip\n",
    "Alternitively, you can download the data from this direct link: https://github.com/lanl/dsi/raw/refs/heads/main/examples/clover3d/clover3d.zip\n",
    "\n",
    "The data is an ensemble of 8 runs, and has 4 metadata products of interest:\n",
    "\n",
    "* clover.in - input deck\n",
    "* clover.out - simulation statistics\n",
    "* timestamps.txt - time when simulation was launched on slurm\n",
    "* viz files - insitu outputs in vtk format\n",
    "\n",
    "To begin the ingest:"
   ]
  },
  {
   "cell_type": "code",
   "execution_count": 28,
   "id": "ffd67bca-2b0a-4eb0-bf56-12d09a2baee3",
   "metadata": {},
   "outputs": [
    {
     "name": "stdout",
     "output_type": "stream",
     "text": [
      "Created an instance of DSI with the Sqlite backend, dsi-tutorial.db\n",
      "Loaded ./clover3d/ into tables: input, output, simulation, viz_files\n"
     ]
    }
   ],
   "source": [
    "# Target backend defaults to SQLite since not defined\n",
    "store = DSI(\"dsi-tutorial.db\")\n",
    "\n",
    "# dsi.read(filename, reader)\n",
    "store.read(\"./clover3d/\", 'Cloverleaf')"
   ]
  },
  {
   "cell_type": "markdown",
   "id": "51584519-2e77-4afa-983a-f69945a084c3",
   "metadata": {},
   "source": [
    "# Exploring the loaded data"
   ]
  },
  {
   "cell_type": "code",
   "execution_count": 29,
   "id": "ec76764e-e25e-4720-8cc2-d7eab8d59363",
   "metadata": {},
   "outputs": [
    {
     "name": "stdout",
     "output_type": "stream",
     "text": [
      "\n",
      "Table: input\n",
      "  - num of columns: 22\n",
      "  - num of rows: 8\n",
      "\n",
      "Table: output\n",
      "  - num of columns: 10\n",
      "  - num of rows: 720\n",
      "\n",
      "Table: simulation\n",
      "  - num of columns: 2\n",
      "  - num of rows: 8\n",
      "\n",
      "Table: viz_files\n",
      "  - num of columns: 2\n",
      "  - num of rows: 80\n",
      "\n",
      "\n"
     ]
    }
   ],
   "source": [
    "# Let's see what tables were created\n",
    "store.list()"
   ]
  },
  {
   "cell_type": "code",
   "execution_count": 30,
   "id": "146d4e66-57df-48f5-ba2e-0c438668310c",
   "metadata": {},
   "outputs": [
    {
     "name": "stdout",
     "output_type": "stream",
     "text": [
      "\n",
      "Table: input\n",
      "\n",
      "column           | type    | min  | max  | avg                 | std_dev               \n",
      "---------------------------------------------------------------------------------------\n",
      "sim_id           |         | None | None | None                | None                  \n",
      "ymin             | FLOAT   | 0.0  | 0.0  | 0.0                 | 0.0                   \n",
      "y_cells          | INTEGER | 60   | 60   | 60.0                | 0.0                   \n",
      "test_problem     | INTEGER | 2    | 2    | 2.0                 | 0.0                   \n",
      "xmin             | FLOAT   | 0.0  | 0.0  | 0.0                 | 0.0                   \n",
      "max_timestep     | FLOAT   | 0.04 | 0.04 | 0.04                | 0.0                   \n",
      "timestep_rise    | FLOAT   | 1.5  | 1.5  | 1.5                 | 0.0                   \n",
      "state1_energy    | FLOAT   | 1.0  | 1.0  | 1.0                 | 0.0                   \n",
      "state2_xmax      | FLOAT   | 5.0  | 5.0  | 5.0                 | 0.0                   \n",
      "state2_xmin      | FLOAT   | 0.0  | 0.0  | 0.0                 | 0.0                   \n",
      "state2_ymin      | FLOAT   | 0.0  | 0.0  | 0.0                 | 0.0                   \n",
      "state1_density   | FLOAT   | 0.2  | 0.2  | 0.19999999999999998 | 2.7755575615628914e-17\n",
      "state2_energy    | FLOAT   | 2.5  | 2.5  | 2.5                 | 0.0                   \n",
      "initial_timestep | FLOAT   | 0.04 | 0.04 | 0.04                | 0.0                   \n",
      "state2_density   | FLOAT   | 2.0  | 9.0  | 5.5                 | 2.29128784747792      \n",
      "state2_geometry  | VARCHAR | None | None | None                | None                  \n",
      "ymax             | FLOAT   | 10.0 | 10.0 | 10.0                | 0.0                   \n",
      "visit_frequency  | INTEGER | 10   | 10   | 10.0                | 0.0                   \n",
      "state2_ymax      | FLOAT   | 2.0  | 2.0  | 2.0                 | 0.0                   \n",
      "end_step         | INTEGER | 90   | 90   | 90.0                | 0.0                   \n",
      "xmax             | FLOAT   | 10.0 | 10.0 | 10.0                | 0.0                   \n",
      "x_cells          | INTEGER | 60   | 60   | 60.0                | 0.0                   \n",
      "  - num of rows: 8\n",
      "\n",
      "\n",
      "Table: output\n",
      "\n",
      "column                | type    | min                    | max                    | avg                    | std_dev              \n",
      "----------------------------------------------------------------------------------------------------------------------------------\n",
      "sim_id                |         | None                   | None                   | None                   | None                 \n",
      "control               | VARCHAR | None                   | None                   | None                   | None                 \n",
      "y                     | FLOAT   | 0.0833                 | 0.0833                 | 0.08330000000000087    | 8.743006318923108e-16\n",
      "wall_clock            | FLOAT   | 0.00021386146545410156 | 0.1322460174560547     | 0.054996451073222694   | 0.03471222483372871  \n",
      "x                     | FLOAT   | 0.0833                 | 0.0833                 | 0.08330000000000087    | 8.743006318923108e-16\n",
      "step                  | INTEGER | 1                      | 90                     | 45.5                   | 25.979158313283875   \n",
      "step_time_per_cell    | FLOAT   | 5.7220458984375e-08    | 3.2230880525377062e-06 | 3.3594816737109483e-07 | 8.433991864636084e-07\n",
      "timestep              | FLOAT   | 0.04                   | 0.04                   | 0.0399999999999994     | 6.036837696399289e-16\n",
      "average_time_per_cell | FLOAT   | 5.9405962626139325e-08 | 3.724901212586297e-07  | 3.012494375437398e-07  | 8.578276515102002e-08\n",
      "time                  | FLOAT   | 0.0                    | 3.56                   | 1.7799999999999996     | 1.0391663325313554   \n",
      "  - num of rows: 720\n",
      "\n",
      "\n",
      "Table: simulation\n",
      "\n",
      "column       | type | min  | max  | avg  | std_dev\n",
      "--------------------------------------------------\n",
      "sim_id       |      | None | None | None | None   \n",
      "sim_datetime |      | None | None | None | None   \n",
      "  - num of rows: 8\n",
      "\n",
      "\n",
      "Table: viz_files\n",
      "\n",
      "column         | type | min  | max  | avg  | std_dev\n",
      "----------------------------------------------------\n",
      "sim_id         |      | None | None | None | None   \n",
      "image_filepath |      | None | None | None | None   \n",
      "  - num of rows: 80\n",
      "\n"
     ]
    }
   ],
   "source": [
    "# Let's get more details about the data\n",
    "store.summary()"
   ]
  },
  {
   "cell_type": "code",
   "execution_count": 36,
   "id": "3e00fca3-3f72-4a4e-bd4c-7c61ec3ed113",
   "metadata": {},
   "outputs": [
    {
     "name": "stdout",
     "output_type": "stream",
     "text": [
      "\n",
      "Table: viz_files\n",
      "\n",
      "sim_id | image_filepath                    \n",
      "-------------------------------------------\n",
      "1      | run_1/clover.00000.00001.00000.vtk\n",
      "1      | run_1/clover.00000.00001.00010.vtk\n",
      "1      | run_1/clover.00000.00001.00020.vtk\n",
      "1      | run_1/clover.00000.00001.00030.vtk\n",
      "1      | run_1/clover.00000.00001.00040.vtk\n",
      "1      | run_1/clover.00000.00001.00050.vtk\n",
      "1      | run_1/clover.00000.00001.00060.vtk\n",
      "1      | run_1/clover.00000.00001.00070.vtk\n",
      "1      | run_1/clover.00000.00001.00080.vtk\n",
      "1      | run_1/clover.00000.00001.00090.vtk\n",
      "2      | run_2/clover.00000.00001.00000.vtk\n",
      "2      | run_2/clover.00000.00001.00010.vtk\n",
      "2      | run_2/clover.00000.00001.00020.vtk\n",
      "2      | run_2/clover.00000.00001.00030.vtk\n",
      "2      | run_2/clover.00000.00001.00040.vtk\n",
      "2      | run_2/clover.00000.00001.00050.vtk\n",
      "2      | run_2/clover.00000.00001.00060.vtk\n",
      "2      | run_2/clover.00000.00001.00070.vtk\n",
      "2      | run_2/clover.00000.00001.00080.vtk\n",
      "2      | run_2/clover.00000.00001.00090.vtk\n",
      "3      | run_3/clover.00000.00001.00000.vtk\n",
      "3      | run_3/clover.00000.00001.00010.vtk\n",
      "3      | run_3/clover.00000.00001.00020.vtk\n",
      "3      | run_3/clover.00000.00001.00030.vtk\n",
      "3      | run_3/clover.00000.00001.00040.vtk\n",
      "  ... showing 25 of 80 rows\n",
      "\n"
     ]
    }
   ],
   "source": [
    "# Preview the contents of the visualization files\n",
    "store.display(\"viz_files\")"
   ]
  },
  {
   "cell_type": "markdown",
   "id": "b59cddcd-5a83-4fa3-8f4e-fd5d98381aa6",
   "metadata": {},
   "source": [
    "# DSI Find to search within the data"
   ]
  },
  {
   "cell_type": "code",
   "execution_count": 37,
   "id": "65ed9155-e447-43ac-b556-72b24e1207ee",
   "metadata": {},
   "outputs": [
    {
     "name": "stdout",
     "output_type": "stream",
     "text": [
      "Finding all instances of 'Jun 2025' in the active DSI backend\n",
      "\n",
      "Table: simulation\n",
      "  - Columns: ['sim_id', 'sim_datetime']\n",
      "  - Row Number: 1\n",
      "  - Data: [1, 'Thu 05 Jun 2025 01:25:34 PM MDT']\n",
      "Table: simulation\n",
      "  - Columns: ['sim_id', 'sim_datetime']\n",
      "  - Row Number: 2\n",
      "  - Data: [2, 'Thu 05 Jun 2025 01:25:34 PM MDT']\n",
      "Table: simulation\n",
      "  - Columns: ['sim_id', 'sim_datetime']\n",
      "  - Row Number: 3\n",
      "  - Data: [3, 'Thu 05 Jun 2025 01:25:34 PM MDT']\n",
      "Table: simulation\n",
      "  - Columns: ['sim_id', 'sim_datetime']\n",
      "  - Row Number: 4\n",
      "  - Data: [4, 'Thu 05 Jun 2025 01:25:34 PM MDT']\n",
      "Table: simulation\n",
      "  - Columns: ['sim_id', 'sim_datetime']\n",
      "  - Row Number: 5\n",
      "  - Data: [5, 'Thu 05 Jun 2025 01:25:34 PM MDT']\n",
      "Table: simulation\n",
      "  - Columns: ['sim_id', 'sim_datetime']\n",
      "  - Row Number: 6\n",
      "  - Data: [6, 'Thu 05 Jun 2025 01:25:34 PM MDT']\n",
      "Table: simulation\n",
      "  - Columns: ['sim_id', 'sim_datetime']\n",
      "  - Row Number: 7\n",
      "  - Data: [7, 'Thu 05 Jun 2025 01:25:34 PM MDT']\n",
      "Table: simulation\n",
      "  - Columns: ['sim_id', 'sim_datetime']\n",
      "  - Row Number: 8\n",
      "  - Data: [8, 'Thu 05 Jun 2025 01:25:35 PM MDT']\n",
      "\n"
     ]
    }
   ],
   "source": [
    "# Search string or value within all tables\n",
    "store.find(\"Jun 2025\")"
   ]
  },
  {
   "cell_type": "code",
   "execution_count": 42,
   "id": "266811c7-f79e-4bd4-9ee0-0e40a97fa8ed",
   "metadata": {},
   "outputs": [
    {
     "name": "stdout",
     "output_type": "stream",
     "text": [
      "Finding all instances of '8.0' in the active DSI backend\n",
      "\n",
      "Table: input\n",
      "  - Columns: ['sim_id', 'ymin', 'y_cells', 'test_problem', 'xmin', 'max_timestep', 'timestep_rise', 'state1_energy', 'state2_xmax', 'state2_xmin', 'state2_ymin', 'state1_density', 'state2_energy', 'initial_timestep', 'state2_density', 'state2_geometry', 'ymax', 'visit_frequency', 'state2_ymax', 'end_step', 'xmax', 'x_cells']\n",
      "  - Row Number: 7\n",
      "  - Data: [7, 0.0, 60, 2, 0.0, 0.04, 1.5, 1.0, 5.0, 0.0, 0.0, 0.2, 2.5, 0.04, 8.0, 'rectangle', 10.0, 10, 2.0, 90, 10.0, 60]\n",
      "Table: output\n",
      "  - Columns: ['sim_id', 'control', 'y', 'wall_clock', 'x', 'step', 'step_time_per_cell', 'timestep', 'average_time_per_cell', 'time']\n",
      "  - Row Number: 533\n",
      "  - Data: [6, 'sound', 0.0833, 0.10679292678833008, 0.0833, 83, 8.000267876519097e-08, 0.04, 3.5740604681502704e-07, 3.28]\n",
      "Table: output\n",
      "  - Columns: ['sim_id', 'control', 'y', 'wall_clock', 'x', 'step', 'step_time_per_cell', 'timestep', 'average_time_per_cell', 'time']\n",
      "  - Row Number: 535\n",
      "  - Data: [6, 'sound', 0.0833, 0.10738182067871094, 0.0833, 85, 8.000267876519097e-08, 0.04, 3.5092098261016647e-07, 3.36]\n",
      "Table: output\n",
      "  - Columns: ['sim_id', 'control', 'y', 'wall_clock', 'x', 'step', 'step_time_per_cell', 'timestep', 'average_time_per_cell', 'time']\n",
      "  - Row Number: 602\n",
      "  - Data: [7, 'sound', 0.0833, 0.08071494102478027, 0.0833, 62, 8.053249782986111e-08, 0.04, 3.6162607986012665e-07, 2.44]\n",
      "Table: output\n",
      "  - Columns: ['sim_id', 'control', 'y', 'wall_clock', 'x', 'step', 'step_time_per_cell', 'timestep', 'average_time_per_cell', 'time']\n",
      "  - Row Number: 603\n",
      "  - Data: [7, 'sound', 0.0833, 0.08101701736450195, 0.0833, 63, 8.079740736219618e-08, 0.04, 3.572178896142061e-07, 2.48]\n",
      "Table: output\n",
      "  - Columns: ['sim_id', 'control', 'y', 'wall_clock', 'x', 'step', 'step_time_per_cell', 'timestep', 'average_time_per_cell', 'time']\n",
      "  - Row Number: 604\n",
      "  - Data: [7, 'sound', 0.0833, 0.0813140869140625, 0.0833, 64, 8.026758829752604e-08, 0.04, 3.5292572445339627e-07, 2.52]\n",
      "Table: output\n",
      "  - Columns: ['sim_id', 'control', 'y', 'wall_clock', 'x', 'step', 'step_time_per_cell', 'timestep', 'average_time_per_cell', 'time']\n",
      "  - Row Number: 611\n",
      "  - Data: [7, 'sound', 0.0833, 0.0939791202545166, 0.0833, 71, 8.059872521294488e-08, 0.04, 3.6768043918042487e-07, 2.8]\n",
      "Table: output\n",
      "  - Columns: ['sim_id', 'control', 'y', 'wall_clock', 'x', 'step', 'step_time_per_cell', 'timestep', 'average_time_per_cell', 'time']\n",
      "  - Row Number: 704\n",
      "  - Data: [8, 'sound', 0.0833, 0.09337592124938965, 0.0833, 74, 8.026758829752604e-08, 0.04, 3.505102149001113e-07, 2.92]\n",
      "Table: output\n",
      "  - Columns: ['sim_id', 'control', 'y', 'wall_clock', 'x', 'step', 'step_time_per_cell', 'timestep', 'average_time_per_cell', 'time']\n",
      "  - Row Number: 705\n",
      "  - Data: [8, 'sound', 0.0833, 0.09367203712463379, 0.0833, 75, 8.000267876519097e-08, 0.04, 3.46933470831977e-07, 2.96]\n",
      "\n"
     ]
    }
   ],
   "source": [
    "# Perform a search and receive a collection\n",
    "find_list = store.find(\"8.0\")\n",
    "\n",
    "find_list"
   ]
  },
  {
   "cell_type": "markdown",
   "id": "e48e4648-4012-4cbc-b961-0920fcb2eafc",
   "metadata": {},
   "source": [
    "# Updating contents with DSI"
   ]
  },
  {
   "cell_type": "code",
   "execution_count": 45,
   "id": "9fffde2f-1281-4247-8d00-b8d6be74a253",
   "metadata": {},
   "outputs": [
    {
     "name": "stdout",
     "output_type": "stream",
     "text": [
      "\n",
      "Table: output\n",
      "\n",
      "sim_id | control | y      | wall_clock             | x      | step | step_time_per_cell     | timestep | average_time_per_cell  | time | new_col\n",
      "------------------------------------------------------------------------------------------------------------------------------------------------\n",
      "1      | sound   | 0.0833 | 0.00026607513427734375 | 0.0833 | 1    | 7.390975952148437e-08  | 100.0    | 7.390975952148437e-08  | 0.0  | 50.0   \n",
      "1      | sound   | 0.0833 | 0.0004999637603759766  | 0.0833 | 2    | 6.245242224799262e-08  | 100.0    | 6.943941116333008e-08  | 0.04 | 50.0   \n",
      "1      | sound   | 0.0833 | 0.0007319450378417969  | 0.0833 | 3    | 6.25186496310764e-08   | 100.0    | 6.777268868905527e-08  | 0.08 | 50.0   \n",
      "1      | sound   | 0.0833 | 0.0009679794311523438  | 0.0833 | 4    | 6.357828776041667e-08  | 100.0    | 6.722079383002387e-08  | 0.12 | 50.0   \n",
      "1      | sound   | 0.0833 | 0.0012009143829345703  | 0.0833 | 5    | 6.337960561116536e-08  | 100.0    | 6.671746571858724e-08  | 0.16 | 50.0   \n",
      "  ... showing 5 of 720 rows\n",
      "\n",
      "\n",
      "Table: simulation\n",
      "\n",
      "sim_id | sim_datetime                    | new_col | timestep\n",
      "-------------------------------------------------------------\n",
      "1      | Thu 05 Jun 2025 01:25:34 PM MDT | 50      | 100     \n",
      "2      | Thu 05 Jun 2025 01:25:34 PM MDT | 50      | 100     \n",
      "3      | Thu 05 Jun 2025 01:25:34 PM MDT | 50      | 100     \n",
      "4      | Thu 05 Jun 2025 01:25:34 PM MDT | 50      | 100     \n",
      "5      | Thu 05 Jun 2025 01:25:34 PM MDT | 50      | 100     \n",
      "  ... showing 5 of 8 rows\n",
      "\n",
      "\n",
      "Table: viz_files\n",
      "\n",
      "sim_id | image_filepath                     | new_col | timestep\n",
      "----------------------------------------------------------------\n",
      "1      | run_1/clover.00000.00001.00000.vtk | nan     | nan     \n",
      "1      | run_1/clover.00000.00001.00010.vtk | nan     | nan     \n",
      "1      | run_1/clover.00000.00001.00020.vtk | 50.0    | 100.0   \n",
      "1      | run_1/clover.00000.00001.00030.vtk | nan     | nan     \n",
      "1      | run_1/clover.00000.00001.00040.vtk | nan     | nan     \n",
      "  ... showing 5 of 80 rows\n",
      "\n",
      "\n",
      "Table: input\n",
      "\n",
      "sim_id | ymin | y_cells | test_problem | xmin | max_timestep | timestep_rise | state1_energy | state2_xmax | state2_xmin | state2_ymin | state1_density | state2_energy | initial_timestep | state2_density | state2_geometry | ymax | visit_frequency | state2_ymax | end_step | xmax | x_cells | new_col | timestep\n",
      "---------------------------------------------------------------------------------------------------------------------------------------------------------------------------------------------------------------------------------------------------------------------------------------------------------------------\n",
      "1      | 0.0  | 60      | 2            | 0.0  | 0.04         | 1.5           | 1.0           | 5.0         | 0.0         | 0.0         | 0.2            | 2.5           | 0.04             | 2.0            | rectangle       | 10.0 | 10              | 2.0         | 90       | 10.0 | 60      | 50      | 100     \n",
      "2      | 0.0  | 60      | 2            | 0.0  | 0.04         | 1.5           | 1.0           | 5.0         | 0.0         | 0.0         | 0.2            | 2.5           | 0.04             | 3.0            | rectangle       | 10.0 | 10              | 2.0         | 90       | 10.0 | 60      | 50      | 100     \n",
      "3      | 0.0  | 60      | 2            | 0.0  | 0.04         | 1.5           | 1.0           | 5.0         | 0.0         | 0.0         | 0.2            | 2.5           | 0.04             | 4.0            | rectangle       | 10.0 | 10              | 2.0         | 90       | 10.0 | 60      | 50      | 100     \n",
      "4      | 0.0  | 60      | 2            | 0.0  | 0.04         | 1.5           | 1.0           | 5.0         | 0.0         | 0.0         | 0.2            | 2.5           | 0.04             | 5.0            | rectangle       | 10.0 | 10              | 2.0         | 90       | 10.0 | 60      | 50      | 100     \n",
      "5      | 0.0  | 60      | 2            | 0.0  | 0.04         | 1.5           | 1.0           | 5.0         | 0.0         | 0.0         | 0.2            | 2.5           | 0.04             | 6.0            | rectangle       | 10.0 | 10              | 2.0         | 90       | 10.0 | 60      | 50      | 100     \n",
      "  ... showing 5 of 8 rows\n",
      "\n",
      "Updating the active DSI backend with the input collection of data\n",
      "Updating the active DSI backend with the input collection of data\n"
     ]
    }
   ],
   "source": [
    "for table in find_list:\n",
    "    store.display(table[\"dsi_table_name\"][0], 5) # display table before update\n",
    "\n",
    "    table[\"new_col\"] = 50   # add new column to this DataFrame\n",
    "    table[\"timestep\"] = 100 # update existing column for some DataFrames\n",
    "\n",
    "#dsi.update(collection)\n",
    "store.update(find_list) # update all tables in the list\n",
    "store.update(find_list[0]) # update only first table in the list\n"
   ]
  },
  {
   "cell_type": "code",
   "execution_count": 46,
   "id": "cce158ae-8a03-47e2-9f6e-22d7b29bb90e",
   "metadata": {},
   "outputs": [
    {
     "name": "stdout",
     "output_type": "stream",
     "text": [
      "\n",
      "Table: output\n",
      "\n",
      "sim_id | control | y      | wall_clock             | x      | step | step_time_per_cell     | timestep | average_time_per_cell  | time | new_col\n",
      "------------------------------------------------------------------------------------------------------------------------------------------------\n",
      "1      | sound   | 0.0833 | 0.00026607513427734375 | 0.0833 | 1    | 7.390975952148437e-08  | 100.0    | 7.390975952148437e-08  | 0.0  | 50.0   \n",
      "1      | sound   | 0.0833 | 0.0004999637603759766  | 0.0833 | 2    | 6.245242224799262e-08  | 100.0    | 6.943941116333008e-08  | 0.04 | 50.0   \n",
      "1      | sound   | 0.0833 | 0.0007319450378417969  | 0.0833 | 3    | 6.25186496310764e-08   | 100.0    | 6.777268868905527e-08  | 0.08 | 50.0   \n",
      "1      | sound   | 0.0833 | 0.0009679794311523438  | 0.0833 | 4    | 6.357828776041667e-08  | 100.0    | 6.722079383002387e-08  | 0.12 | 50.0   \n",
      "1      | sound   | 0.0833 | 0.0012009143829345703  | 0.0833 | 5    | 6.337960561116536e-08  | 100.0    | 6.671746571858724e-08  | 0.16 | 50.0   \n",
      "  ... showing 5 of 720 rows\n",
      "\n",
      "\n",
      "Table: simulation\n",
      "\n",
      "sim_id | sim_datetime                    | new_col | timestep\n",
      "-------------------------------------------------------------\n",
      "1      | Thu 05 Jun 2025 01:25:34 PM MDT | 50      | 100     \n",
      "2      | Thu 05 Jun 2025 01:25:34 PM MDT | 50      | 100     \n",
      "3      | Thu 05 Jun 2025 01:25:34 PM MDT | 50      | 100     \n",
      "4      | Thu 05 Jun 2025 01:25:34 PM MDT | 50      | 100     \n",
      "5      | Thu 05 Jun 2025 01:25:34 PM MDT | 50      | 100     \n",
      "  ... showing 5 of 8 rows\n",
      "\n",
      "\n",
      "Table: viz_files\n",
      "\n",
      "sim_id | image_filepath                     | new_col | timestep\n",
      "----------------------------------------------------------------\n",
      "1      | run_1/clover.00000.00001.00000.vtk | nan     | nan     \n",
      "1      | run_1/clover.00000.00001.00010.vtk | nan     | nan     \n",
      "1      | run_1/clover.00000.00001.00020.vtk | 50.0    | 100.0   \n",
      "1      | run_1/clover.00000.00001.00030.vtk | nan     | nan     \n",
      "1      | run_1/clover.00000.00001.00040.vtk | nan     | nan     \n",
      "  ... showing 5 of 80 rows\n",
      "\n",
      "\n",
      "Table: input\n",
      "\n",
      "sim_id | ymin | y_cells | test_problem | xmin | max_timestep | timestep_rise | state1_energy | state2_xmax | state2_xmin | state2_ymin | state1_density | state2_energy | initial_timestep | state2_density | state2_geometry | ymax | visit_frequency | state2_ymax | end_step | xmax | x_cells | new_col | timestep\n",
      "---------------------------------------------------------------------------------------------------------------------------------------------------------------------------------------------------------------------------------------------------------------------------------------------------------------------\n",
      "1      | 0.0  | 60      | 2            | 0.0  | 0.04         | 1.5           | 1.0           | 5.0         | 0.0         | 0.0         | 0.2            | 2.5           | 0.04             | 2.0            | rectangle       | 10.0 | 10              | 2.0         | 90       | 10.0 | 60      | 50      | 100     \n",
      "2      | 0.0  | 60      | 2            | 0.0  | 0.04         | 1.5           | 1.0           | 5.0         | 0.0         | 0.0         | 0.2            | 2.5           | 0.04             | 3.0            | rectangle       | 10.0 | 10              | 2.0         | 90       | 10.0 | 60      | 50      | 100     \n",
      "3      | 0.0  | 60      | 2            | 0.0  | 0.04         | 1.5           | 1.0           | 5.0         | 0.0         | 0.0         | 0.2            | 2.5           | 0.04             | 4.0            | rectangle       | 10.0 | 10              | 2.0         | 90       | 10.0 | 60      | 50      | 100     \n",
      "4      | 0.0  | 60      | 2            | 0.0  | 0.04         | 1.5           | 1.0           | 5.0         | 0.0         | 0.0         | 0.2            | 2.5           | 0.04             | 5.0            | rectangle       | 10.0 | 10              | 2.0         | 90       | 10.0 | 60      | 50      | 100     \n",
      "5      | 0.0  | 60      | 2            | 0.0  | 0.04         | 1.5           | 1.0           | 5.0         | 0.0         | 0.0         | 0.2            | 2.5           | 0.04             | 6.0            | rectangle       | 10.0 | 10              | 2.0         | 90       | 10.0 | 60      | 50      | 100     \n",
      "  ... showing 5 of 8 rows\n",
      "\n"
     ]
    }
   ],
   "source": [
    "# See the updated results\n",
    "for table in find_list:\n",
    "    store.display(table[\"dsi_table_name\"][0], 5) # display table after update"
   ]
  },
  {
   "cell_type": "markdown",
   "id": "2a1a273f-1669-418d-9c52-fd4732ec56f8",
   "metadata": {},
   "source": [
    "# Query DSI"
   ]
  },
  {
   "cell_type": "code",
   "execution_count": 49,
   "id": "8fd1e99e-d293-46d2-b6e8-b353cf027f07",
   "metadata": {},
   "outputs": [
    {
     "name": "stdout",
     "output_type": "stream",
     "text": [
      "Printing the result of the SQL query: SELECT * FROM input LIMIT 3\n",
      "\n",
      "sim_id | ymin | y_cells | test_problem | xmin | max_timestep | timestep_rise | state1_energy | state2_xmax | state2_xmin | state2_ymin | state1_density | state2_energy | initial_timestep | state2_density | state2_geometry | ymax | visit_frequency | state2_ymax | end_step | xmax | x_cells | new_col | timestep\n",
      "---------------------------------------------------------------------------------------------------------------------------------------------------------------------------------------------------------------------------------------------------------------------------------------------------------------------\n",
      "1      | 0.0  | 60      | 2            | 0.0  | 0.04         | 1.5           | 1.0           | 5.0         | 0.0         | 0.0         | 0.2            | 2.5           | 0.04             | 2.0            | rectangle       | 10.0 | 10              | 2.0         | 90       | 10.0 | 60      | 50      | 100     \n",
      "2      | 0.0  | 60      | 2            | 0.0  | 0.04         | 1.5           | 1.0           | 5.0         | 0.0         | 0.0         | 0.2            | 2.5           | 0.04             | 3.0            | rectangle       | 10.0 | 10              | 2.0         | 90       | 10.0 | 60      | 50      | 100     \n",
      "3      | 0.0  | 60      | 2            | 0.0  | 0.04         | 1.5           | 1.0           | 5.0         | 0.0         | 0.0         | 0.2            | 2.5           | 0.04             | 4.0            | rectangle       | 10.0 | 10              | 2.0         | 90       | 10.0 | 60      | 50      | 100     \n",
      "\n"
     ]
    }
   ],
   "source": [
    "# Use sql statement to directly query the backend store\n",
    "store.query(\"SELECT * FROM input LIMIT 3\")"
   ]
  },
  {
   "cell_type": "code",
   "execution_count": null,
   "id": "863d168c-b73a-424e-bf58-d13980a45da1",
   "metadata": {},
   "outputs": [],
   "source": []
  }
 ],
 "metadata": {
  "kernelspec": {
   "display_name": "Python 3 (ipykernel)",
   "language": "python",
   "name": "python3"
  },
  "language_info": {
   "codemirror_mode": {
    "name": "ipython",
    "version": 3
   },
   "file_extension": ".py",
   "mimetype": "text/x-python",
   "name": "python",
   "nbconvert_exporter": "python",
   "pygments_lexer": "ipython3",
   "version": "3.10.11"
  }
 },
 "nbformat": 4,
 "nbformat_minor": 5
}
