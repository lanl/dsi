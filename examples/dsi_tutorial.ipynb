{
 "cells": [
  {
   "cell_type": "markdown",
   "id": "d4785ce1-e8b5-4bbd-a7ee-bada0ba6f330",
   "metadata": {},
   "source": [
    "# DSI Tutorial and getting started\n",
    "\n",
    "The goal of the Data Science Infrastructure Project ([DSI](https://github.com/lanl/dsi)) is to provide a flexible, AI-ready metadata query capability which returns data subject to strict, POSIX-enforced file security. In this tutorial, you will learn how to:\n",
    " - initialize a DSI instance\n",
    " - load data into DSI\n",
    " - check the data loaded\n",
    " - query the data\n",
    " - create new data and save it to DSI\n",
    " - load complex schemas\n",
    " - use DSI writers\n",
    " - use DSI Sync to index and move data\n",
    "\n",
    "This tutorial uses data from the [Cloverleaf3D](https://github.com/UK-MAC/CloverLeaf3D) Lagrangian-Eulerian hydrodynamics solver. Archived data is provided in dsi/examples/clover3d. Prior to running the tutorial, extract clover3d.zip using *unzip -j* and please follow the instructions in the [Quick Start: Installation](https://lanl.github.io/dsi/installation.html) to set up DSI.\n",
    "\n"
   ]
  },
  {
   "cell_type": "code",
   "execution_count": 1,
   "id": "0fe6f810-9b2d-4369-9e46-2d78c96e2789",
   "metadata": {},
   "outputs": [],
   "source": [
    "from dsi.dsi import DSI"
   ]
  },
  {
   "cell_type": "code",
   "execution_count": 2,
   "id": "14e76c45-9449-4fcc-bdbd-6c287a430f37",
   "metadata": {},
   "outputs": [
    {
     "name": "stdout",
     "output_type": "stream",
     "text": [
      "Created an instance of DSI\n"
     ]
    }
   ],
   "source": [
    "# Create instance of DSI\n",
    "baseline = DSI()"
   ]
  },
  {
   "cell_type": "markdown",
   "id": "3373701e-acaa-46ca-9057-1dda825f231f",
   "metadata": {},
   "source": [
    "# Available features\n",
    "\n",
    "To see which available backends, readers and writers area available, you can try calling funtionst to list the featureset available in your instalation."
   ]
  },
  {
   "cell_type": "code",
   "execution_count": 3,
   "id": "d1d83751-5617-4659-a710-fc1aaa3aa872",
   "metadata": {},
   "outputs": [
    {
     "name": "stdout",
     "output_type": "stream",
     "text": [
      "\n",
      "Valid Backends for `backend_name` in backend():\n",
      "----------------------------------------\n",
      "Sqlite : Lightweight, file-based SQL backend. Default backend used by DSI API.\n",
      "DuckDB : In-process SQL backend optimized for fast analytics on large datasets.\n",
      "\n",
      "\n"
     ]
    }
   ],
   "source": [
    "# Lists available backends\n",
    "baseline.list_backends()"
   ]
  },
  {
   "cell_type": "code",
   "execution_count": 4,
   "id": "fd0924c3-6a7d-418b-b82b-802107eb951b",
   "metadata": {},
   "outputs": [
    {
     "name": "stdout",
     "output_type": "stream",
     "text": [
      "\n",
      "Valid Readers for `reader_name` in read():\n",
      "--------------------------------------------------\n",
      "Collection           : Loads data from an Ordered Dict. If multiple tables, each table must be a nested OrderedDict.\n",
      "CSV                  : Loads data from CSV files (one table per call)\n",
      "Parquet              : Loads data from Parquet - a columnar storage format for Apache Hadoop (one table per call)\n",
      "YAML1                : Loads data from YAML files of a certain structure\n",
      "TOML1                : Loads data from TOML files of a certain structure\n",
      "JSON                 : Loads single-table data from JSON files\n",
      "Ensemble             : Loads a CSV file where each row is a simulation run; creates a simulation table\n",
      "Cloverleaf           : Loads data from a directory with subfolders for each simulation run's input and output data\n",
      "Bueno                : Loads performance data from Bueno (github.com/lanl/bueno) (.data text file format)\n",
      "DublinCoreDatacard   : Loads dataset metadata adhering to the Dublin Core format (XML)\n",
      "SchemaOrgDatacard    : Loads dataset metadata adhering to schema.org (JSON)\n",
      "GoogleDatacard       : Loads dataset metadata adhering to the Google Data Cards Playbook (YAML)\n",
      "Oceans11Datacard     : Loads dataset metadata for Oceans11 DSI data server (oceans11.lanl.gov) (YAML)\n",
      "\n"
     ]
    }
   ],
   "source": [
    "# Lists available readers\n",
    "baseline.list_readers()"
   ]
  },
  {
   "cell_type": "code",
   "execution_count": 5,
   "id": "70c7a8c0-72dc-46cb-858b-29016aff2428",
   "metadata": {},
   "outputs": [
    {
     "name": "stdout",
     "output_type": "stream",
     "text": [
      "\n",
      "Valid Writers for `writer_name` in write(): ['ER_Diagram', 'Table_Plot', 'Csv_Writer', 'Parquet_Writer'] \n",
      "\n",
      "ER_Diagram  : Creates a visual ER diagram image based on all tables in DSI.\n",
      "Table_Plot  : Generates a plot of numerical data from a specified table.\n",
      "Csv         : Exports the data of a specified table to a CSV file.\n",
      "Parquet     : Exports the data of a specified table to a Parquet file.\n",
      "\n"
     ]
    }
   ],
   "source": [
    "# Lists available writers\n",
    "baseline.list_writers()"
   ]
  },
  {
   "cell_type": "markdown",
   "id": "84d8eb51-0cad-4344-b68d-8a2d61dfe9f1",
   "metadata": {},
   "source": [
    "# Reading Data into DSI\n",
    "\n",
    "For this tutorial, we will use cloverleaf 3d data available in our repository. \n",
    "\n",
    "* To pull the repository, you wil need to git clone https://github.com/lanl/dsi.git\n",
    "* To access, go to examples/clover3d\n",
    "\n",
    "The data is from [Cloverleaf3D](https://github.com/UK-MAC/CloverLeaf3D), a Lagrangian-Eulerian hydrodynamics solver.\n",
    "\n",
    "The data is an **ensemble** of 8 runs, and has 4 metadata products of interest:\n",
    "\n",
    "* clover.in - input deck\n",
    "* clover.out - simulation statistics\n",
    "* timestamps.txt - time when simulation was launched on slurm\n",
    "* viz files - insitu outputs in vtk format\n"
   ]
  },
  {
   "cell_type": "code",
   "execution_count": null,
   "id": "14b7ee57-da21-4c6c-86de-bf358907955e",
   "metadata": {},
   "outputs": [],
   "source": [
    "from IPython.display import HTML\n",
    "\n",
    "HTML(\"\"\"\n",
    "<video width=\"256\" height=\"208\" controls loop>\n",
    "  <source src=\"clover3d/movie.mp4\" type=\"video/mp4\">\n",
    "  Your browser does not support the video tag.\n",
    "</video>\n",
    "\"\"\")"
   ]
  },
  {
   "cell_type": "markdown",
   "id": "dbde84c2-4d24-432b-baa6-899ead6f6d4d",
   "metadata": {},
   "source": [
    "\n",
    "To begin the ingest:"
   ]
  },
  {
   "cell_type": "code",
   "execution_count": 6,
   "id": "ffd67bca-2b0a-4eb0-bf56-12d09a2baee3",
   "metadata": {},
   "outputs": [
    {
     "name": "stdout",
     "output_type": "stream",
     "text": [
      "Created an instance of DSI with the Sqlite backend: dsi-tutorial.db\n",
      "OrderedDict([('input', OrderedDict([('sim_id', [])])), ('output', OrderedDict([('sim_id', [])])), ('simulation', OrderedDict([('sim_id', []), ('sim_datetime', [])])), ('viz_files', OrderedDict([('sim_id', []), ('image_filepath', [])]))])\n",
      "Loaded ./clover3d/ into tables: input, output, simulation, viz_files\n"
     ]
    }
   ],
   "source": [
    "# Target backend defaults to SQLite since not defined\n",
    "store = DSI(\"dsi-tutorial.db\")\n",
    "\n",
    "# dsi.read(path, reader)\n",
    "store.read(\"./clover3d/\", 'Cloverleaf')"
   ]
  },
  {
   "cell_type": "code",
   "execution_count": 7,
   "id": "5356cf39-6b33-42cf-ba6f-3fb0c817486b",
   "metadata": {},
   "outputs": [
    {
     "name": "stdout",
     "output_type": "stream",
     "text": [
      "OrderedDict([('student', OrderedDict([('StudentID', [1, 2, 3, 4, 5]), ('FirstName', ['Alice', 'Brian', 'Chloe', 'David', 'Eva']), ('LastName', ['Johnson', 'Lopez', 'Smith', 'Brown', 'Martinez']), ('GradeLevel', [10, 11, 12, 9, 10]), ('Major', ['Mathematics', 'Computer Science', 'Biology', 'History', 'Physics'])]))])\n",
      "Loaded /home/pascalgrosset/Desktop/sample_students.csv into the table student\n"
     ]
    }
   ],
   "source": [
    "store.read(\"/home/pascalgrosset/Desktop/sample_students.csv\", 'CSV', 'student')"
   ]
  },
  {
   "cell_type": "markdown",
   "id": "51584519-2e77-4afa-983a-f69945a084c3",
   "metadata": {},
   "source": [
    "# Exploring the loaded data"
   ]
  },
  {
   "cell_type": "code",
   "execution_count": 7,
   "id": "b911a426-a0f2-45a5-94bc-a71fce55f7bd",
   "metadata": {},
   "outputs": [
    {
     "name": "stdout",
     "output_type": "stream",
     "text": [
      "Database now has 4 tables\n"
     ]
    }
   ],
   "source": [
    "# How many tables do we have\n",
    "store.num_tables()"
   ]
  },
  {
   "cell_type": "code",
   "execution_count": null,
   "id": "ec76764e-e25e-4720-8cc2-d7eab8d59363",
   "metadata": {},
   "outputs": [],
   "source": [
    "# Let's see what tables were created\n",
    "store.list()"
   ]
  },
  {
   "cell_type": "code",
   "execution_count": null,
   "id": "146d4e66-57df-48f5-ba2e-0c438668310c",
   "metadata": {},
   "outputs": [],
   "source": [
    "# Let's get more details about the data\n",
    "store.summary()"
   ]
  },
  {
   "cell_type": "code",
   "execution_count": null,
   "id": "3e00fca3-3f72-4a4e-bd4c-7c61ec3ed113",
   "metadata": {},
   "outputs": [],
   "source": [
    "# Preview the contents of the visualization files\n",
    "store.display(\"simulation\")"
   ]
  },
  {
   "cell_type": "markdown",
   "id": "b59cddcd-5a83-4fa3-8f4e-fd5d98381aa6",
   "metadata": {},
   "source": [
    "# DSI Find to search within the data\n",
    "\n",
    "DSI's find capability lets you explore your data by performing queries with the following modifiers, such as >, <, >=, <=, =, ==, ~ (contains), ~~ (contains), !=, and (X, Y) for a range between values X and Y. Additionally, by adding a \"True\" input will return you a collection."
   ]
  },
  {
   "cell_type": "code",
   "execution_count": null,
   "id": "65ed9155-e447-43ac-b556-72b24e1207ee",
   "metadata": {},
   "outputs": [],
   "source": [
    "# Search string or value within all tables\n",
    "store.find(\"wall_clock > 0.10\")"
   ]
  },
  {
   "cell_type": "code",
   "execution_count": null,
   "id": "266811c7-f79e-4bd4-9ee0-0e40a97fa8ed",
   "metadata": {},
   "outputs": [],
   "source": [
    "# Perform a find and receive a collection\n",
    "find_list = store.find(\"state2_density==8.0\", True) # Use True to return a collection"
   ]
  },
  {
   "cell_type": "code",
   "execution_count": null,
   "id": "bee1a1b9-a749-4bde-ab1d-abebd386622f",
   "metadata": {},
   "outputs": [],
   "source": [
    "# Simply display what this collection (pandas dataframe) looks like\n",
    "find_list"
   ]
  },
  {
   "cell_type": "code",
   "execution_count": null,
   "id": "34ab0de4-00bc-4184-b4b5-6e3b4352367f",
   "metadata": {},
   "outputs": [],
   "source": [
    "find_list = store.find(\"time>3.0\", True)"
   ]
  },
  {
   "cell_type": "code",
   "execution_count": null,
   "id": "d108854d-6f28-4adf-bcae-3de04c408fc7",
   "metadata": {},
   "outputs": [],
   "source": [
    "find_list"
   ]
  },
  {
   "cell_type": "code",
   "execution_count": null,
   "id": "38fb33ad-a6d8-489c-8195-f2d8f4cad785",
   "metadata": {},
   "outputs": [],
   "source": [
    "find_list = store.find(\"time(1.0,1.1)\", True)"
   ]
  },
  {
   "cell_type": "code",
   "execution_count": null,
   "id": "5c167011-fd2c-4b1a-bf62-9e16b4017d20",
   "metadata": {},
   "outputs": [],
   "source": [
    "find_list"
   ]
  },
  {
   "cell_type": "markdown",
   "id": "e48e4648-4012-4cbc-b961-0920fcb2eafc",
   "metadata": {},
   "source": [
    "# Updating contents with DSI\n",
    "\n",
    "DSI Allows you to add or modify existing contents inside a collection that was returned from\n",
    "a find or a query operation when 'True' is used.\n",
    "\n",
    "Example usecase: We want to perform post-processing of the ingested data. In this example, we would like to append additional information to our DSI Database. We want to convert the simulation date from text to numerical unix time."
   ]
  },
  {
   "cell_type": "code",
   "execution_count": null,
   "id": "1dfb51e9-055f-4b55-bb97-3d3d88781f1a",
   "metadata": {},
   "outputs": [],
   "source": [
    "collection = store.find(\"sim_id > 0\", True)"
   ]
  },
  {
   "cell_type": "code",
   "execution_count": null,
   "id": "8613dcac-e401-47b3-bfd2-9f4adf4769aa",
   "metadata": {},
   "outputs": [],
   "source": [
    "collection = store.query(\"SELECT * FROM simulation WHERE sim_id > '1'\", True, True)"
   ]
  },
  {
   "cell_type": "code",
   "execution_count": null,
   "id": "d76b6904-1801-48c2-90ee-48cb1155ccb5",
   "metadata": {},
   "outputs": [],
   "source": [
    "collection"
   ]
  },
  {
   "cell_type": "code",
   "execution_count": null,
   "id": "b69e8c2f-e854-4b7f-84b3-07ebb78310a4",
   "metadata": {},
   "outputs": [],
   "source": [
    "# Small amount of helper code to convert dates to unix time\n",
    "from datetime import datetime\n",
    "from zoneinfo import ZoneInfo\n",
    "def str2unix(date_str):\n",
    "    date_str_clean = date_str.rsplit(' ', 1)[0]  # remove 'MDT'\n",
    "    dt_naive = datetime.strptime(date_str_clean, \"%a %d %b %Y %I:%M:%S %p\")\n",
    "    # Set timezone\n",
    "    dt_local = dt_naive.replace(tzinfo=ZoneInfo(\"America/Denver\"))\n",
    "    unix_time = int(dt_local.timestamp()) # Unix time in UTC\n",
    "    return unix_time"
   ]
  },
  {
   "cell_type": "code",
   "execution_count": null,
   "id": "49b5fbf7-0f1c-4ff6-90e0-e4c934b34d60",
   "metadata": {},
   "outputs": [],
   "source": [
    "store.display(\"simulation\") # display table before update"
   ]
  },
  {
   "cell_type": "code",
   "execution_count": null,
   "id": "42e04f73-4785-4598-b62d-787045d5c24c",
   "metadata": {},
   "outputs": [],
   "source": [
    "print(collection)"
   ]
  },
  {
   "cell_type": "code",
   "execution_count": null,
   "id": "9fffde2f-1281-4247-8d00-b8d6be74a253",
   "metadata": {},
   "outputs": [],
   "source": [
    "# Iterate through collection and append new metadata\n",
    "collection[\"sim_unixtime\"] = collection[\"sim_datetime\"].apply(str2unix)\n",
    "\n",
    "#dsi.update(collection)\n",
    "store.update(collection) # update all tables in the list"
   ]
  },
  {
   "cell_type": "code",
   "execution_count": null,
   "id": "cce158ae-8a03-47e2-9f6e-22d7b29bb90e",
   "metadata": {},
   "outputs": [],
   "source": [
    "# See the updated results\n",
    "store.display(\"simulation\")"
   ]
  },
  {
   "cell_type": "markdown",
   "id": "2a1a273f-1669-418d-9c52-fd4732ec56f8",
   "metadata": {},
   "source": [
    "# Query DSI\n",
    "\n",
    "DSI Supports direct SQL queries to the data that you have ingested"
   ]
  },
  {
   "cell_type": "code",
   "execution_count": null,
   "id": "8fd1e99e-d293-46d2-b6e8-b353cf027f07",
   "metadata": {},
   "outputs": [],
   "source": [
    "# Use sql statement to directly query the backend store\n",
    "store.query(\"SELECT sim_id, xmin, ymin, xmax, ymax, state2_density FROM input\") # Adding 'True' gives a collection"
   ]
  },
  {
   "cell_type": "code",
   "execution_count": null,
   "id": "3f3d15ae-7c92-46b7-ac29-f09b495a7a75",
   "metadata": {},
   "outputs": [],
   "source": [
    "store.list()"
   ]
  },
  {
   "cell_type": "code",
   "execution_count": null,
   "id": "863d168c-b73a-424e-bf58-d13980a45da1",
   "metadata": {},
   "outputs": [],
   "source": [
    "# alternative to \"query()\" if you want to get a whole table\n",
    "store.get_table(\"input\") # Adding 'True' gives a collection"
   ]
  },
  {
   "cell_type": "markdown",
   "id": "5116ee7b-ec15-470f-9e91-da0a13d5d970",
   "metadata": {},
   "source": [
    "# DSI Write - Complex Schemas\n",
    "\n",
    "By formatting your metadata and putting it into DSI, you have essentially created a schema. DSI also has support to represent complex schemas by defining relations. For example, if you would like to relate the different tables together you can use the schema reader which takes in a .json file.\n",
    "\n",
    "* schema.json"
   ]
  },
  {
   "cell_type": "raw",
   "id": "99f23585-154c-4d27-b4d4-f90d0c7cbfd2",
   "metadata": {},
   "source": [
    "{\n",
    "    \"simulation\": {\n",
    "       \"primary_key\": \"sim_id\"\n",
    "    }, \n",
    "    \"input\": {\n",
    "       \"foreign_key\": {\n",
    "             \"sim_id\": [\"simulation\", \"sim_id\"]\n",
    "       }\n",
    "    }, \n",
    "    \"output\": {\n",
    "       \"foreign_key\": {\n",
    "             \"sim_id\": [\"simulation\", \"sim_id\"]\n",
    "       }\n",
    "    },\n",
    "    \"viz_files\": {\n",
    "       \"foreign_key\": {\n",
    "             \"sim_id\": [\"simulation\", \"sim_id\"]\n",
    "       }\n",
    "    }\n",
    "}"
   ]
  },
  {
   "cell_type": "code",
   "execution_count": null,
   "id": "3d6c78c6-055b-4da7-9790-1fb632509ebc",
   "metadata": {},
   "outputs": [],
   "source": []
  },
  {
   "cell_type": "markdown",
   "id": "5310e236-9ebd-4f7f-8fe4-1f275a204dee",
   "metadata": {},
   "source": [
    "Before defining and ingesting a complex schema, what does an Entity Relationship Diagram look like in our initial schema?"
   ]
  },
  {
   "cell_type": "markdown",
   "id": "49cd27e2-897f-4f45-b550-7a17cfd6f614",
   "metadata": {},
   "source": [
    "* To run this portion of the example, the graphviz package is required"
   ]
  },
  {
   "cell_type": "markdown",
   "id": "94157883-c472-4eca-a389-32524db2a1d8",
   "metadata": {},
   "source": [
    "pip install graphviz"
   ]
  },
  {
   "cell_type": "code",
   "execution_count": null,
   "id": "495d6158-0874-4d4f-a468-40e3774e2eae",
   "metadata": {},
   "outputs": [],
   "source": []
  },
  {
   "cell_type": "code",
   "execution_count": null,
   "id": "1a00aab8-ee3a-4bfe-83c9-cdbc284f955d",
   "metadata": {},
   "outputs": [],
   "source": [
    "store.write(\"clover_er_diagram_no_schema.png\", \"ER_Diagram\")\n",
    "\n",
    "from IPython.display import Image\n",
    "Image(filename=\"clover_er_diagram_no_schema.png\", width=200)"
   ]
  },
  {
   "cell_type": "code",
   "execution_count": null,
   "id": "e1104b9e-a3af-4e5e-a8d6-acae74c59b0e",
   "metadata": {},
   "outputs": [],
   "source": [
    "# Create a new database where we will relate a complex schema\n",
    "schema_store = DSI(\"schema_tutorial.db\")\n",
    "\n",
    "# dsi.schema(filename)\n",
    "schema_store.schema(\"./clover3d/schema.json\") # Schema neeeds to be defined before reading Cloverleaf data\n",
    "\n",
    "# dsi.read(path, reader)\n",
    "schema_store.read(\"./clover3d/\", 'Cloverleaf') # read in Cloverleaf data\n",
    "\n",
    "# dsi.write(filename, writer)\n",
    "schema_store.write(\"clover_er_diagram.png\", \"ER_Diagram\")"
   ]
  },
  {
   "cell_type": "markdown",
   "id": "961d7a40-6b45-460b-96f1-b49ab2200a4d",
   "metadata": {},
   "source": [
    "To preview the Entity Realationship Diagram (ERDiagram), import libraries to display images"
   ]
  },
  {
   "cell_type": "code",
   "execution_count": null,
   "id": "40a5cfdd-a6ea-4ff2-b7d8-08019c6a57e8",
   "metadata": {},
   "outputs": [],
   "source": [
    "from IPython.display import Image\n",
    "Image(filename=\"clover_er_diagram.png\", width=300)"
   ]
  },
  {
   "cell_type": "markdown",
   "id": "30382290-b4c5-4043-b4ba-d66c4954ce74",
   "metadata": {},
   "source": [
    "# DSI Write - CSV\n",
    "\n",
    "DSI Support the output (write) of data if you would like to export into another project. For example, here we want to export the table \"input\" into a csv file."
   ]
  },
  {
   "cell_type": "code",
   "execution_count": null,
   "id": "d8fad85c-e7dd-4119-9f6a-ee3d87ba8510",
   "metadata": {},
   "outputs": [],
   "source": [
    "store.write(\"input.csv\", \"CSV\", \"input\")"
   ]
  },
  {
   "cell_type": "markdown",
   "id": "b0a92930-22a7-46ff-b5cd-7d18abd1149b",
   "metadata": {},
   "source": [
    "# DSI Write - Table plot\n",
    "DSI has a built in tool to assist in plotting tables. In this example, we plot the contents of the \"output\" table. This is useful for automated tools / CI to track ongoing statistics."
   ]
  },
  {
   "cell_type": "code",
   "execution_count": null,
   "id": "d4eb7fda-87be-4ac9-84eb-647082fdd8bc",
   "metadata": {},
   "outputs": [],
   "source": [
    "store.write(\"output_table_plot.png\", \"Table_Plot\", \"output\")"
   ]
  },
  {
   "cell_type": "code",
   "execution_count": null,
   "id": "4f860dca-bacd-4a68-bd66-71b20d6723fd",
   "metadata": {},
   "outputs": [],
   "source": [
    "Image(filename=\"output_table_plot.png\", width=400)"
   ]
  },
  {
   "cell_type": "markdown",
   "id": "a503aac7-985a-4b22-88fe-21a5b082006e",
   "metadata": {},
   "source": [
    "# Ending your workflow"
   ]
  },
  {
   "cell_type": "code",
   "execution_count": null,
   "id": "2b91d592-18cd-4e72-abbf-51fc3cf02a3f",
   "metadata": {},
   "outputs": [],
   "source": [
    "store.close()\n",
    "schema_store.close()"
   ]
  },
  {
   "cell_type": "markdown",
   "id": "5de2d841-b128-470b-857c-10057d7744cf",
   "metadata": {},
   "source": [
    "# Reloading your workflow"
   ]
  },
  {
   "cell_type": "code",
   "execution_count": null,
   "id": "7592f68b-459b-4688-8a5b-c38bc2590d8c",
   "metadata": {},
   "outputs": [],
   "source": []
  },
  {
   "cell_type": "code",
   "execution_count": null,
   "id": "0607ed75-fdfc-4b48-97d4-66e531f7b5e7",
   "metadata": {},
   "outputs": [],
   "source": [
    "# Target backend defaults to SQLite since not defined\n",
    "store = DSI(\"dsi-tutorial.db\")\n",
    "store.summary()"
   ]
  },
  {
   "cell_type": "markdown",
   "id": "8140e5fb-8932-434b-852b-a9944259024f",
   "metadata": {},
   "source": [
    "# Moving your data with DSI"
   ]
  },
  {
   "cell_type": "code",
   "execution_count": null,
   "id": "fc5ee4c2-4379-471b-8a2d-941fb5ebda4b",
   "metadata": {},
   "outputs": [],
   "source": [
    "from dsi.core import Sync"
   ]
  },
  {
   "cell_type": "code",
   "execution_count": null,
   "id": "e4d464ff-172c-46ea-9c5b-a233a0812055",
   "metadata": {},
   "outputs": [],
   "source": [
    "#Origin\n",
    "local_files = \"./clover3d/\"\n",
    "#Remote (Assuming on a Macbook, otherwise change to other location)\n",
    "remote_path = \"/Users/Shared/staging/\""
   ]
  },
  {
   "cell_type": "code",
   "execution_count": null,
   "id": "6a3302b6-e9df-487e-8d88-c355ffe0b7cb",
   "metadata": {},
   "outputs": [],
   "source": []
  },
  {
   "cell_type": "code",
   "execution_count": null,
   "id": "81ac948f-2ed4-4056-ac91-48f4433c7e7e",
   "metadata": {},
   "outputs": [],
   "source": [
    "# Create Sync type with project name\n",
    "s = Sync(\"dsi-tutorial\")"
   ]
  },
  {
   "cell_type": "code",
   "execution_count": null,
   "id": "cfaf02c8-73c5-4d21-8add-242e7fe98cf1",
   "metadata": {},
   "outputs": [],
   "source": [
    "s.index(local_files,remote_path,True)"
   ]
  },
  {
   "cell_type": "code",
   "execution_count": null,
   "id": "62994a77-f6f4-4a39-a592-ad4cb914796e",
   "metadata": {},
   "outputs": [],
   "source": [
    "store.summary()"
   ]
  },
  {
   "cell_type": "code",
   "execution_count": null,
   "id": "5d213c11-c1b7-4d7c-88cf-7797263c3623",
   "metadata": {},
   "outputs": [],
   "source": [
    "s.copy(\"copy\",True)"
   ]
  },
  {
   "cell_type": "code",
   "execution_count": null,
   "id": "95ed9fc7-9cb8-45c0-b376-a717dcc0dbf9",
   "metadata": {},
   "outputs": [],
   "source": []
  }
 ],
 "metadata": {
  "kernelspec": {
   "display_name": "venv__dsi_dev",
   "language": "python",
   "name": "venv__dsi_dev"
  },
  "language_info": {
   "codemirror_mode": {
    "name": "ipython",
    "version": 3
   },
   "file_extension": ".py",
   "mimetype": "text/x-python",
   "name": "python",
   "nbconvert_exporter": "python",
   "pygments_lexer": "ipython3",
   "version": "3.10.12"
  }
 },
 "nbformat": 4,
 "nbformat_minor": 5
}
