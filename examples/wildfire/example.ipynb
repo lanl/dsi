{
 "cells": [
  {
   "cell_type": "code",
   "execution_count": 1,
   "id": "42e11435-005f-4466-95a7-d577ebc30a7a",
   "metadata": {},
   "outputs": [],
   "source": [
    "import os\n",
    "from dsi.dsi import DSI\n",
    "\n",
    "isVerbose = True"
   ]
  },
  {
   "cell_type": "code",
   "execution_count": 2,
   "id": "64fb5baa-911a-45a2-8c98-7f17cc8b19c1",
   "metadata": {},
   "outputs": [],
   "source": [
    "if os.path.exists(\"wf.db\"):\n",
    "    os.remove(\"wf.db\")"
   ]
  },
  {
   "cell_type": "code",
   "execution_count": 2,
   "id": "82615be7-0820-44e9-b0e6-ead5f84992ec",
   "metadata": {},
   "outputs": [],
   "source": [
    "store = DSI()"
   ]
  },
  {
   "cell_type": "code",
   "execution_count": 3,
   "id": "d7ddeea9-a5f9-414f-b8e8-f886b4c02839",
   "metadata": {},
   "outputs": [
    {
     "name": "stdout",
     "output_type": "stream",
     "text": [
      "Help on DSI in module dsi.dsi object:\n",
      "\n",
      "class DSI(builtins.object)\n",
      " |  A user-facing abstration for DSI's Core middleware interface.\n",
      " |  \n",
      " |  The DSI Class abstracts Core.Terminal for managing metadata and Core.Sync for data management and movement.\n",
      " |  \n",
      " |  Methods defined here:\n",
      " |  \n",
      " |  __init__(self)\n",
      " |      Initialize self.  See help(type(self)) for accurate signature.\n",
      " |  \n",
      " |  backend(self, filename, backend_name='Sqlite')\n",
      " |      Activates a backend, default is Sqlite unless specified. \n",
      " |      Uses can now call the ingest(), query(), or process() functions.\n",
      " |      \n",
      " |      `filename`: name of the backend file\n",
      " |          - if backend_name = \"Sqlite\" ---> file extension can be .db, .sqlite, .sqlite3\n",
      " |          - if backend_name = \"DuckDB\" ---> file extension can be .duckdb, .db\n",
      " |          \n",
      " |      `backend_name`: either 'Sqlite' or 'DuckDB. Default is Sqlite\n",
      " |  \n",
      " |  close(self)\n",
      " |      Closes the connection and finalizes the changes to the backend\n",
      " |  \n",
      " |  display(self, table_name, num_rows=25, display_cols=None)\n",
      " |      Prints data of a specified table from the first loaded backend.\n",
      " |      \n",
      " |      `table_name`: table whose data is printed\n",
      " |       \n",
      " |      `num_rows`: Optional numerical parameter limiting how many rows are printed. Default is 25.\n",
      " |      \n",
      " |      `display_cols`: Optional parameter specifying which columns in `table_name` to display. Must be a Python list object\n",
      " |  \n",
      " |  fetch(self, fname)\n",
      " |  \n",
      " |  find(self, query, row=False)\n",
      " |      Finds all individual datapoints that match `query` input in the first loaded backend\n",
      " |      \n",
      " |      `row`: Default is False. If False, then printed `value` is the actual cell that matches `query`.\n",
      " |      If True, then printed `value` is whole row of data where a cell matches `query`\n",
      " |  \n",
      " |  findc(self, query, range=False)\n",
      " |      Finds all columns that match `query` input in the first loaded backend.\n",
      " |      \n",
      " |      `range`: Default is False. If False, then the printed `value` is data of each matching column.\n",
      " |      If True, then the printed `value` is the min/max of each matching column\n",
      " |  \n",
      " |  findt(self, query)\n",
      " |      Finds all tables that match `query` input in the first loaded backend\n",
      " |  \n",
      " |  get(self, dbname)\n",
      " |      #help, query?, edge-finding (find this/that)\n",
      " |  \n",
      " |  ingest(self)\n",
      " |      Ingests data from all previously called read() functions into active backends from backend().\n",
      " |  \n",
      " |  list(self)\n",
      " |      Prints a list of all tables and their dimensions in the first loaded backend\n",
      " |  \n",
      " |  list_backends(self)\n",
      " |      Prints a list of valid backends that can be specified in the 'backend_name' argument in backend()\n",
      " |  \n",
      " |  list_readers(self)\n",
      " |      Prints a list of valid readers that can be specified in the 'reader_name' argument in read()\n",
      " |  \n",
      " |  list_writers(self)\n",
      " |      Prints a list of valid writers that can be specified in the 'writer_name' argument in write()\n",
      " |  \n",
      " |  move(self, filepath)\n",
      " |  \n",
      " |  nb(self)\n",
      " |      Generates a Python notebook and stores data from the first activated backend\n",
      " |  \n",
      " |  num_tables(self)\n",
      " |      Prints number of tables in the first loaded backend\n",
      " |  \n",
      " |  process(self)\n",
      " |      Reads data from first activated backend into DSI memory.\n",
      " |  \n",
      " |  query(self, statement)\n",
      " |      Queries data from first activated backend based on specified `statement`. Prints data as a dataframe\n",
      " |      \n",
      " |      `statement`: query to run on a backend. `statement` can only be a SELECT or PRAGMA query.\n",
      " |  \n",
      " |  read(self, filenames, reader_name, table_name=None)\n",
      " |      Runs a reader to load data into DSI.\n",
      " |      \n",
      " |      `filenames`: name(s) of the data file(s) to load into DSI\n",
      " |      \n",
      " |          - if reader_name = \"Oceans11Datacard\" ---> file extension can be .yaml, .yml\n",
      " |          - if reader_name = \"DublinCoreDatacard\" ---> file extension can be .xml\n",
      " |          - if reader_name = \"SchemaOrgDatacard\" ---> file extension can be .json\n",
      " |          - if reader_name = \"Schema\" ---> file extension can be .json\n",
      " |          - if reader_name = \"Bueno\" ---> file extension can be .data\n",
      " |          - if reader_name = \"Csv\" ---> file extension can be .csv\n",
      " |          - if reader_name = \"YAML1\" ---> file extension can be .yaml, .yml\n",
      " |          - if reader_name = \"TOML1\" ---> file extension can be .toml\n",
      " |          - if reader_name = \"Wildfire\" ---> file extension can be .csv\n",
      " |          - if reader_name = \"JSON\" ---> file extension can be .json\n",
      " |      \n",
      " |      `reader_name`: name of the DSI reader to use. Call list_readers() to see a list of valid readers\n",
      " |      \n",
      " |      `table_name`: optional, default None. If `filenames` only stores one table of data, users can specify name for that table\n",
      " |      \n",
      " |          - Csv, JSON, and Wildfire readers are only ones to accept this input\n",
      " |  \n",
      " |  summary(self, table_name=None, num_rows=0)\n",
      " |      Prints data and numerical metadata of tables from the first loaded backend. Output varies depending on parameters\n",
      " |      \n",
      " |      `table_name`: default is None. When specified only that table's numerical metadata is printed. \n",
      " |      Otherwise every table's numerical metdata is printed\n",
      " |      \n",
      " |      `num_rows`: default is 0. When specified, data from the first N rows of a table are printed. \n",
      " |      Otherwise, only the total number of rows of a table are printed. \n",
      " |      The tables whose data is printed depends on the `table_name` parameter.\n",
      " |  \n",
      " |  write(self, filename, writer_name, table_name=None)\n",
      " |      Runs a writer to export data from DSI.\n",
      " |      If data to export is in a backend, first call process() before write().\n",
      " |      \n",
      " |      `filename`: output file name\n",
      " |      \n",
      " |          - if writer_name = \"ER_Diagram\" ---> file extension can be .png, .pdf, .jpg, .jpeg\n",
      " |          - if writer_name = \"Table_Plot\" ---> file extension can be .png, .jpg, .jpeg\n",
      " |          - if writer_name = \"Csv_Writer\" ---> file extension can only be .csv\n",
      " |      \n",
      " |      `writer_name`: name of the DSI write to use. Call list_writers() to see a list of valid readers\n",
      " |      \n",
      " |      `table_name`: optional if writer_name = \"ER_Diagram\". Required for Table_Plot and Csv_Writer to export correct table\n",
      " |  \n",
      " |  ----------------------------------------------------------------------\n",
      " |  Data descriptors defined here:\n",
      " |  \n",
      " |  __dict__\n",
      " |      dictionary for instance variables (if defined)\n",
      " |  \n",
      " |  __weakref__\n",
      " |      list of weak references to the object (if defined)\n",
      "\n"
     ]
    }
   ],
   "source": [
    "help(store)"
   ]
  },
  {
   "cell_type": "code",
   "execution_count": 4,
   "id": "58a188f2-8918-4b66-a354-650f641283eb",
   "metadata": {},
   "outputs": [
    {
     "name": "stdout",
     "output_type": "stream",
     "text": [
      "Wildfire plugin reader loaded successfully.\n"
     ]
    }
   ],
   "source": [
    "store.read(\"wildfiredataSmall.csv\",\"wildfire\")"
   ]
  },
  {
   "cell_type": "code",
   "execution_count": 5,
   "id": "980d1528-1385-4ebe-bf6c-30d50635c90e",
   "metadata": {},
   "outputs": [
    {
     "name": "stdout",
     "output_type": "stream",
     "text": [
      "Sqlite backend back-write loaded successfully.\n"
     ]
    }
   ],
   "source": [
    "store.backend(\"wf.db\")"
   ]
  },
  {
   "cell_type": "code",
   "execution_count": 6,
   "id": "62c37a6c-df64-4ac2-8cc7-6414abd5baf0",
   "metadata": {},
   "outputs": [
    {
     "ename": "Error",
     "evalue": "Error ingesting data in /Users/pulido/Library/Python/3.10/lib/python/site-packages/dsi/backends/sqlite.py @ line 202 due to UNIQUE constraint failed: simulation.sim_id",
     "output_type": "error",
     "traceback": [
      "\u001b[0;31m---------------------------------------------------------------------------\u001b[0m",
      "\u001b[0;31mError\u001b[0m                                     Traceback (most recent call last)",
      "Cell \u001b[0;32mIn[6], line 1\u001b[0m\n\u001b[0;32m----> 1\u001b[0m \u001b[43mstore\u001b[49m\u001b[38;5;241;43m.\u001b[39;49m\u001b[43mingest\u001b[49m\u001b[43m(\u001b[49m\u001b[43m)\u001b[49m\n",
      "File \u001b[0;32m~/Library/Python/3.10/lib/python/site-packages/dsi/dsi.py:116\u001b[0m, in \u001b[0;36mDSI.ingest\u001b[0;34m(self)\u001b[0m\n\u001b[1;32m    112\u001b[0m \u001b[38;5;28;01mdef\u001b[39;00m \u001b[38;5;21mingest\u001b[39m(\u001b[38;5;28mself\u001b[39m):\n\u001b[1;32m    113\u001b[0m \u001b[38;5;250m    \u001b[39m\u001b[38;5;124;03m\"\"\"\u001b[39;00m\n\u001b[1;32m    114\u001b[0m \u001b[38;5;124;03m    Ingests data from all previously called read() functions into active backends from backend().\u001b[39;00m\n\u001b[1;32m    115\u001b[0m \u001b[38;5;124;03m    \"\"\"\u001b[39;00m\n\u001b[0;32m--> 116\u001b[0m     \u001b[38;5;28;43mself\u001b[39;49m\u001b[38;5;241;43m.\u001b[39;49m\u001b[43mt\u001b[49m\u001b[38;5;241;43m.\u001b[39;49m\u001b[43martifact_handler\u001b[49m\u001b[43m(\u001b[49m\u001b[43minteraction_type\u001b[49m\u001b[38;5;241;43m=\u001b[39;49m\u001b[38;5;124;43m'\u001b[39;49m\u001b[38;5;124;43mingest\u001b[39;49m\u001b[38;5;124;43m'\u001b[39;49m\u001b[43m)\u001b[49m\n\u001b[1;32m    117\u001b[0m     \u001b[38;5;28mprint\u001b[39m(\u001b[38;5;124m\"\u001b[39m\u001b[38;5;124mIngest complete.\u001b[39m\u001b[38;5;124m\"\u001b[39m)\n",
      "File \u001b[0;32m~/Library/Python/3.10/lib/python/site-packages/dsi/core.py:451\u001b[0m, in \u001b[0;36mTerminal.artifact_handler\u001b[0;34m(self, interaction_type, query, **kwargs)\u001b[0m\n\u001b[1;32m    449\u001b[0m     \u001b[38;5;28;01mif\u001b[39;00m \u001b[38;5;28mself\u001b[39m\u001b[38;5;241m.\u001b[39mdebug_level \u001b[38;5;241m!=\u001b[39m \u001b[38;5;241m0\u001b[39m:\n\u001b[1;32m    450\u001b[0m         \u001b[38;5;28mself\u001b[39m\u001b[38;5;241m.\u001b[39mlogger\u001b[38;5;241m.\u001b[39merror(\u001b[38;5;124mf\u001b[39m\u001b[38;5;124m\"\u001b[39m\u001b[38;5;124mError ingesting data in \u001b[39m\u001b[38;5;132;01m{\u001b[39;00moriginal_file\u001b[38;5;132;01m}\u001b[39;00m\u001b[38;5;124m @ line \u001b[39m\u001b[38;5;132;01m{\u001b[39;00mreturn_line_number\u001b[38;5;132;01m}\u001b[39;00m\u001b[38;5;124m due to \u001b[39m\u001b[38;5;132;01m{\u001b[39;00merrorMessage[\u001b[38;5;241m1\u001b[39m]\u001b[38;5;132;01m}\u001b[39;00m\u001b[38;5;124m\"\u001b[39m)\n\u001b[0;32m--> 451\u001b[0m     \u001b[38;5;28;01mraise\u001b[39;00m errorMessage[\u001b[38;5;241m0\u001b[39m](\u001b[38;5;124mf\u001b[39m\u001b[38;5;124m\"\u001b[39m\u001b[38;5;124mError ingesting data in \u001b[39m\u001b[38;5;132;01m{\u001b[39;00moriginal_file\u001b[38;5;132;01m}\u001b[39;00m\u001b[38;5;124m @ line \u001b[39m\u001b[38;5;132;01m{\u001b[39;00mreturn_line_number\u001b[38;5;132;01m}\u001b[39;00m\u001b[38;5;124m due to \u001b[39m\u001b[38;5;132;01m{\u001b[39;00merrorMessage[\u001b[38;5;241m1\u001b[39m]\u001b[38;5;132;01m}\u001b[39;00m\u001b[38;5;124m\"\u001b[39m)\n\u001b[1;32m    452\u001b[0m \u001b[38;5;28;01mif\u001b[39;00m tester \u001b[38;5;241m==\u001b[39m \u001b[38;5;241m1\u001b[39m:\n\u001b[1;32m    453\u001b[0m     sys\u001b[38;5;241m.\u001b[39msettrace(\u001b[38;5;28;01mNone\u001b[39;00m) \u001b[38;5;66;03m# ends trace to prevent large overhead\u001b[39;00m\n",
      "\u001b[0;31mError\u001b[0m: Error ingesting data in /Users/pulido/Library/Python/3.10/lib/python/site-packages/dsi/backends/sqlite.py @ line 202 due to UNIQUE constraint failed: simulation.sim_id"
     ]
    }
   ],
   "source": [
    "store.ingest()"
   ]
  },
  {
   "cell_type": "code",
   "execution_count": null,
   "id": "3a227f29-117e-44d1-8e20-edd785048cf4",
   "metadata": {},
   "outputs": [],
   "source": [
    "store.list()"
   ]
  },
  {
   "cell_type": "code",
   "execution_count": 12,
   "id": "8fc28804-f678-4bd9-8ad6-21b472f30a8a",
   "metadata": {},
   "outputs": [
    {
     "name": "stdout",
     "output_type": "stream",
     "text": [
      "\n",
      "Table: Wildfire\n",
      "\n",
      "column                       | type    | min    | max    | avg       | std_dev           \n",
      "-----------------------------------------------------------------------------------------\n",
      "sim_id                       | INTEGER | 1      | 4      | 2.5       | 1.118033988749895 \n",
      "wind_speed                   | INTEGER | 2      | 8      | 5.75      | 2.48746859276655  \n",
      "wdir                         | INTEGER | 180    | 240    | 210.0     | 23.717082451262844\n",
      "smois                        | FLOAT   | 0.05   | 0.05   | 0.05      | 0.0               \n",
      "fuels                        | VARCHAR | None   | None   | None      | None              \n",
      "ignition                     | VARCHAR | None   | None   | None      | None              \n",
      "safe_unsafe_ignition_pattern | VARCHAR | None   | None   | None      | None              \n",
      "safe_unsafe_fire_behavior    | VARCHAR | None   | None   | None      | None              \n",
      "does_fire_meet_objectives    | VARCHAR | None   | None   | None      | None              \n",
      "rationale_if_unsafe          |         | None   | None   | None      | None              \n",
      "burned_area                  | INTEGER | 122388 | 187542 | 165203.75 | 25579.58827243902 \n",
      "FILE                         | VARCHAR | None   | None   | None      | None              \n",
      "  - num of rows: 4\n",
      "\n",
      "\n",
      "Table: simulation\n",
      "\n",
      "column  | type    | min | max | avg | std_dev          \n",
      "-------------------------------------------------------\n",
      "sim_id* | INTEGER | 1   | 4   | 2.5 | 1.118033988749895\n",
      "  - num of rows: 4\n",
      "\n"
     ]
    }
   ],
   "source": [
    "store.summary()"
   ]
  },
  {
   "cell_type": "code",
   "execution_count": 17,
   "id": "6c29f45c-3bdd-40a4-8e17-feeb2acc5835",
   "metadata": {},
   "outputs": [
    {
     "name": "stdout",
     "output_type": "stream",
     "text": [
      "   sim_id  wind_speed  wdir  smois        fuels                ignition  \\\n",
      "0       1           2   180   0.05  ST5_FF_DUET  ST5_ignite_contour.dat   \n",
      "\n",
      "  safe_unsafe_ignition_pattern safe_unsafe_fire_behavior  \\\n",
      "0                         safe                      safe   \n",
      "\n",
      "  does_fire_meet_objectives rationale_if_unsafe  burned_area  \\\n",
      "0                       yes                None       122388   \n",
      "\n",
      "                                                FILE  \n",
      "0  https://wifire-data.sdsc.edu/data//burnpro3d/d...  \n"
     ]
    }
   ],
   "source": [
    "store.query(\"select * from Wildfire where safe_unsafe_fire_behavior = 'safe'\")"
   ]
  },
  {
   "cell_type": "code",
   "execution_count": 20,
   "id": "c78f6241-8d92-4888-b383-049df7ffbb52",
   "metadata": {},
   "outputs": [
    {
     "name": "stdout",
     "output_type": "stream",
     "text": [
      "Finding all column matches of 'wdir' in first backend loaded\n",
      "Table: Wildfire\n",
      "  - Column: ['wdir']\n",
      "  - Search Type: column\n",
      "  - Value: [180, 225, 195, 240]\n",
      "\n"
     ]
    }
   ],
   "source": [
    "store.findc('wdir')"
   ]
  },
  {
   "cell_type": "code",
   "execution_count": 21,
   "id": "da5ff1c6-8293-4515-b384-23493021b921",
   "metadata": {},
   "outputs": [
    {
     "name": "stdout",
     "output_type": "stream",
     "text": [
      "Finding all cell matches of 'safe' in first backend loaded\n",
      "Table: Wildfire\n",
      "  - Column(s): ['safe_unsafe_fire_behavior']\n",
      "  - Search Type: cell\n",
      "  - Row Number: 1\n",
      "  - Value: safe\n",
      "Table: Wildfire\n",
      "  - Column(s): ['safe_unsafe_ignition_pattern']\n",
      "  - Search Type: cell\n",
      "  - Row Number: 1\n",
      "  - Value: safe\n",
      "Table: Wildfire\n",
      "  - Column(s): ['safe_unsafe_fire_behavior']\n",
      "  - Search Type: cell\n",
      "  - Row Number: 2\n",
      "  - Value: unsafe\n",
      "Table: Wildfire\n",
      "  - Column(s): ['safe_unsafe_ignition_pattern']\n",
      "  - Search Type: cell\n",
      "  - Row Number: 2\n",
      "  - Value: safe\n",
      "Table: Wildfire\n",
      "  - Column(s): ['safe_unsafe_fire_behavior']\n",
      "  - Search Type: cell\n",
      "  - Row Number: 3\n",
      "  - Value: unsafe\n",
      "Table: Wildfire\n",
      "  - Column(s): ['safe_unsafe_ignition_pattern']\n",
      "  - Search Type: cell\n",
      "  - Row Number: 3\n",
      "  - Value: safe\n",
      "Table: Wildfire\n",
      "  - Column(s): ['safe_unsafe_fire_behavior']\n",
      "  - Search Type: cell\n",
      "  - Row Number: 4\n",
      "  - Value: unsafe\n",
      "Table: Wildfire\n",
      "  - Column(s): ['safe_unsafe_ignition_pattern']\n",
      "  - Search Type: cell\n",
      "  - Row Number: 4\n",
      "  - Value: safe\n",
      "\n"
     ]
    }
   ],
   "source": [
    "store.find('safe')"
   ]
  },
  {
   "cell_type": "code",
   "execution_count": 22,
   "id": "3a190361-0a48-43f4-b2da-a7348632d916",
   "metadata": {},
   "outputs": [
    {
     "name": "stdout",
     "output_type": "stream",
     "text": [
      "Closing the abstraction layer, and all active plugins/backends\n"
     ]
    }
   ],
   "source": [
    "store.close()"
   ]
  },
  {
   "cell_type": "code",
   "execution_count": null,
   "id": "ff438a59-556b-4aa0-b3f4-00c47c5e425b",
   "metadata": {},
   "outputs": [],
   "source": []
  }
 ],
 "metadata": {
  "kernelspec": {
   "display_name": "Python 3 (ipykernel)",
   "language": "python",
   "name": "python3"
  },
  "language_info": {
   "codemirror_mode": {
    "name": "ipython",
    "version": 3
   },
   "file_extension": ".py",
   "mimetype": "text/x-python",
   "name": "python",
   "nbconvert_exporter": "python",
   "pygments_lexer": "ipython3",
   "version": "3.10.11"
  }
 },
 "nbformat": 4,
 "nbformat_minor": 5
}
