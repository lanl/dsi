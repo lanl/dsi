{
 "cells": [
  {
   "cell_type": "code",
   "execution_count": 1,
   "id": "dcc124bf-9524-4c48-818f-651a203219ab",
   "metadata": {},
   "outputs": [],
   "source": [
    "from dsi.dsi import DSI"
   ]
  },
  {
   "cell_type": "code",
   "execution_count": 2,
   "id": "46c04605-f2d9-4a31-8996-a75349c55d9d",
   "metadata": {},
   "outputs": [
    {
     "name": "stdout",
     "output_type": "stream",
     "text": [
      "Path to mysql: /home/pascalgrosset/projects/dsi/scratch/my_sql_db\n",
      "Path to data: /home/pascalgrosset/projects/dsi/scratch/mysql_data\n",
      "Port to run on: 16734\n",
      "pascalg+  192571  0.0  0.0  89472 31964 ?        R    14:39   0:00 /home/pascalgrosset/projects/dsi/scratch/my_sql_db/bin/mysqld --basedir=/home/pascalgrosset/projects/dsi/scratch/my_sql_db --datadir=/home/pascalgrosset/projects/dsi/scratch/mysql_data --socket=/home/pascalgrosset/projects/dsi/scratch/my_sql_db/mysql.sock --pid-file=/home/pascalgrosset/projects/dsi/scratch/my_sql_db/mysql.pid --port=16734\n",
      "pascalg+  192573  0.0  0.0   9084  2168 ?        S    14:39   0:00 grep mysqld\n",
      "All done!\n"
     ]
    },
    {
     "name": "stderr",
     "output_type": "stream",
     "text": [
      "2025-10-27T19:39:23.244857Z 0 [System] [MY-015015] [Server] MySQL Server - start.\n",
      "2025-10-27T19:39:23.434075Z 0 [System] [MY-010116] [Server] /home/pascalgrosset/projects/dsi/scratch/my_sql_db/bin/mysqld (mysqld 8.4.5) starting as process 192571\n",
      "2025-10-27T19:39:23.440395Z 1 [System] [MY-013576] [InnoDB] InnoDB initialization has started.\n",
      "2025-10-27T19:39:23.662536Z 1 [System] [MY-013577] [InnoDB] InnoDB initialization has ended.\n",
      "2025-10-27T19:39:23.856098Z 0 [Warning] [MY-010068] [Server] CA certificate ca.pem is self signed.\n",
      "2025-10-27T19:39:23.856122Z 0 [System] [MY-013602] [Server] Channel mysql_main configured to support TLS. Encrypted connections are now supported for this channel.\n",
      "2025-10-27T19:39:23.881129Z 0 [System] [MY-011323] [Server] X Plugin ready for connections. Bind-address: '::' port: 33060, socket: /tmp/mysqlx.sock\n",
      "2025-10-27T19:39:23.881170Z 0 [System] [MY-010931] [Server] /home/pascalgrosset/projects/dsi/scratch/my_sql_db/bin/mysqld: ready for connections. Version: '8.4.5'  socket: '/home/pascalgrosset/projects/dsi/scratch/my_sql_db/mysql.sock'  port: 16734  MySQL Community Server - GPL.\n"
     ]
    },
    {
     "name": "stdout",
     "output_type": "stream",
     "text": [
      "Path to mysql: /home/pascalgrosset/projects/dsi/scratch/my_sql_db\n",
      "database to create: test_database_2\n",
      "user to create: dsi_user_3429209\n",
      "password for user: dsi_password_2581448\n",
      "Database\n",
      "information_schema\n",
      "mysql\n",
      "performance_schema\n",
      "sys\n",
      "test_database_1\n",
      "test_database_2\n",
      "Grants for dsi_user_3429209@localhost\n",
      "GRANT USAGE ON *.* TO `dsi_user_3429209`@`localhost`\n",
      "GRANT ALL PRIVILEGES ON `test_database_2`.* TO `dsi_user_3429209`@`localhost`\n",
      "All done!\n",
      "Created an instance of DSI with the sqlalchemymysql backend: test_database_2\n"
     ]
    }
   ],
   "source": [
    "store = DSI(backend_name = \"SqlAlchemyMySQL\", filename=\"test_database_2\")"
   ]
  },
  {
   "cell_type": "code",
   "execution_count": null,
   "id": "44cb71b5-910d-4c5c-b297-9c00f77d8993",
   "metadata": {},
   "outputs": [],
   "source": [
    "%tb"
   ]
  },
  {
   "cell_type": "code",
   "execution_count": null,
   "id": "83982df2-567f-4518-8606-f040a9be8841",
   "metadata": {},
   "outputs": [],
   "source": [
    "store.list_backends()"
   ]
  },
  {
   "cell_type": "code",
   "execution_count": null,
   "id": "14af613e-a22f-4898-8fdf-51825dda9342",
   "metadata": {},
   "outputs": [],
   "source": [
    "store.close()"
   ]
  },
  {
   "cell_type": "code",
   "execution_count": null,
   "id": "f6c303b6-9fc0-43d2-af25-d90392430fa0",
   "metadata": {},
   "outputs": [],
   "source": []
  }
 ],
 "metadata": {
  "kernelspec": {
   "display_name": "venv__dsi_dev",
   "language": "python",
   "name": "venv__dsi_dev"
  },
  "language_info": {
   "codemirror_mode": {
    "name": "ipython",
    "version": 3
   },
   "file_extension": ".py",
   "mimetype": "text/x-python",
   "name": "python",
   "nbconvert_exporter": "python",
   "pygments_lexer": "ipython3",
   "version": "3.10.12"
  }
 },
 "nbformat": 4,
 "nbformat_minor": 5
}
