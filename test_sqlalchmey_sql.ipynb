{
 "cells": [
  {
   "cell_type": "code",
   "execution_count": null,
   "id": "dcc124bf-9524-4c48-818f-651a203219ab",
   "metadata": {},
   "outputs": [],
   "source": [
    "from dsi.dsi import DSI"
   ]
  },
  {
   "cell_type": "code",
   "execution_count": null,
   "id": "46c04605-f2d9-4a31-8996-a75349c55d9d",
   "metadata": {},
   "outputs": [],
   "source": [
    "store = DSI(backend_name = \"SqlAlchemyMySQL\", filename=\"test_database_4\")"
   ]
  },
  {
   "cell_type": "code",
   "execution_count": null,
   "id": "44cb71b5-910d-4c5c-b297-9c00f77d8993",
   "metadata": {},
   "outputs": [],
   "source": [
    "%tb"
   ]
  },
  {
   "cell_type": "code",
   "execution_count": null,
   "id": "6168571c-0599-4bf2-a25e-63215dcd9c06",
   "metadata": {},
   "outputs": [],
   "source": [
    "x = store.query(\"select * from information_schema\")"
   ]
  },
  {
   "cell_type": "code",
   "execution_count": null,
   "id": "395c7a74-5871-47f9-b442-e4e2a6930319",
   "metadata": {},
   "outputs": [],
   "source": [
    "%tb"
   ]
  },
  {
   "cell_type": "code",
   "execution_count": null,
   "id": "83982df2-567f-4518-8606-f040a9be8841",
   "metadata": {},
   "outputs": [],
   "source": [
    "store.list_backends()"
   ]
  },
  {
   "cell_type": "code",
   "execution_count": null,
   "id": "14af613e-a22f-4898-8fdf-51825dda9342",
   "metadata": {},
   "outputs": [],
   "source": [
    "store.close()"
   ]
  },
  {
   "cell_type": "code",
   "execution_count": null,
   "id": "f6c303b6-9fc0-43d2-af25-d90392430fa0",
   "metadata": {},
   "outputs": [],
   "source": []
  }
 ],
 "metadata": {
  "kernelspec": {
   "display_name": "venv__dsi_dev",
   "language": "python",
   "name": "venv__dsi_dev"
  },
  "language_info": {
   "codemirror_mode": {
    "name": "ipython",
    "version": 3
   },
   "file_extension": ".py",
   "mimetype": "text/x-python",
   "name": "python",
   "nbconvert_exporter": "python",
   "pygments_lexer": "ipython3",
   "version": "3.10.12"
  }
 },
 "nbformat": 4,
 "nbformat_minor": 5
}
